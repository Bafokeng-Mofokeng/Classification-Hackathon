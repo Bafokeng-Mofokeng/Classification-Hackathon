{
 "cells": [
  {
   "cell_type": "markdown",
   "id": "ec430071",
   "metadata": {},
   "source": [
    "# Importing Libraries"
   ]
  },
  {
   "cell_type": "code",
   "execution_count": 13,
   "id": "69d92e54",
   "metadata": {},
   "outputs": [],
   "source": [
    "import pandas as pd\n",
    "import numpy as np\n",
    "import re\n",
    "import string\n",
    "\n",
    "import codecs\n",
    "\n",
    "import seaborn as sns\n",
    "import matplotlib.pyplot as plt\n",
    "import plotly.graph_objects as go\n",
    "\n",
    "from sklearn import feature_extraction\n",
    "from sklearn import pipeline\n",
    "from sklearn.model_selection import train_test_split\n",
    "from sklearn.metrics import f1_score\n",
    "from sklearn import metrics\n",
    "\n",
    "from sklearn.feature_extraction.text import CountVectorizer\n",
    "from sklearn.feature_extraction.text import TfidfVectorizer\n",
    "from sklearn.metrics import classification_report, confusion_matrix, accuracy_score, recall_score, precision_score\n",
    "from sklearn.ensemble import GradientBoostingClassifier\n",
    "from sklearn.linear_model import LogisticRegression\n",
    "from sklearn.ensemble import RandomForestClassifier\n",
    "from sklearn.neighbors import KNeighborsClassifier\n",
    "from sklearn.tree import DecisionTreeClassifier\n",
    "from sklearn.naive_bayes import MultinomialNB\n",
    "from sklearn.svm import LinearSVC\n",
    "from xgboost import XGBClassifier\n",
    "import lightgbm as lgb\n",
    "from sklearn.model_selection import GridSearchCV\n",
    "\n",
    "import warnings\n",
    "warnings.filterwarnings('ignore', category=FutureWarning)\n",
    "warnings.filterwarnings('ignore', category=DeprecationWarning)\n",
    "\n",
    "import warnings\n",
    "warnings.simplefilter(\"ignore\")"
   ]
  },
  {
   "cell_type": "code",
   "execution_count": 14,
   "id": "4689f6dd",
   "metadata": {},
   "outputs": [],
   "source": [
    "train = pd.read_csv(r\"C:\\Users\\admin\\Documents\\EXPLORE\\Advanced Classification\\Exam\\south-african-language-identification-hack-2023\\train_set.csv\")\n",
    "test = pd.read_csv(r\"C:\\Users\\admin\\Documents\\EXPLORE\\Advanced Classification\\Exam\\south-african-language-identification-hack-2023\\test_set.csv\")"
   ]
  },
  {
   "cell_type": "code",
   "execution_count": 15,
   "id": "6f34a770",
   "metadata": {},
   "outputs": [],
   "source": [
    "df = train.copy()\n",
    "dftest = test.copy()"
   ]
  },
  {
   "cell_type": "code",
   "execution_count": 16,
   "id": "5443772b",
   "metadata": {},
   "outputs": [
    {
     "data": {
      "text/html": [
       "<div>\n",
       "<style scoped>\n",
       "    .dataframe tbody tr th:only-of-type {\n",
       "        vertical-align: middle;\n",
       "    }\n",
       "\n",
       "    .dataframe tbody tr th {\n",
       "        vertical-align: top;\n",
       "    }\n",
       "\n",
       "    .dataframe thead th {\n",
       "        text-align: right;\n",
       "    }\n",
       "</style>\n",
       "<table border=\"1\" class=\"dataframe\">\n",
       "  <thead>\n",
       "    <tr style=\"text-align: right;\">\n",
       "      <th></th>\n",
       "      <th>lang_id</th>\n",
       "      <th>text</th>\n",
       "    </tr>\n",
       "  </thead>\n",
       "  <tbody>\n",
       "    <tr>\n",
       "      <th>0</th>\n",
       "      <td>xho</td>\n",
       "      <td>umgaqo-siseko wenza amalungiselelo kumaziko ax...</td>\n",
       "    </tr>\n",
       "    <tr>\n",
       "      <th>1</th>\n",
       "      <td>xho</td>\n",
       "      <td>i-dha iya kuba nobulumko bokubeka umsebenzi na...</td>\n",
       "    </tr>\n",
       "    <tr>\n",
       "      <th>2</th>\n",
       "      <td>eng</td>\n",
       "      <td>the province of kwazulu-natal department of tr...</td>\n",
       "    </tr>\n",
       "    <tr>\n",
       "      <th>3</th>\n",
       "      <td>nso</td>\n",
       "      <td>o netefatša gore o ba file dilo ka moka tše le...</td>\n",
       "    </tr>\n",
       "    <tr>\n",
       "      <th>4</th>\n",
       "      <td>ven</td>\n",
       "      <td>khomishini ya ndinganyiso ya mbeu yo ewa maana...</td>\n",
       "    </tr>\n",
       "    <tr>\n",
       "      <th>5</th>\n",
       "      <td>nso</td>\n",
       "      <td>dinyakišišo tše tša go dirwa gabedi ka ngwaga ...</td>\n",
       "    </tr>\n",
       "    <tr>\n",
       "      <th>6</th>\n",
       "      <td>tsn</td>\n",
       "      <td>kgetse nngwe le nngwe e e sa faposiwang mo tsh...</td>\n",
       "    </tr>\n",
       "    <tr>\n",
       "      <th>7</th>\n",
       "      <td>ven</td>\n",
       "      <td>mbadelo dze dza laelwa dzi do kwama mahatulele...</td>\n",
       "    </tr>\n",
       "  </tbody>\n",
       "</table>\n",
       "</div>"
      ],
      "text/plain": [
       "  lang_id                                               text\n",
       "0     xho  umgaqo-siseko wenza amalungiselelo kumaziko ax...\n",
       "1     xho  i-dha iya kuba nobulumko bokubeka umsebenzi na...\n",
       "2     eng  the province of kwazulu-natal department of tr...\n",
       "3     nso  o netefatša gore o ba file dilo ka moka tše le...\n",
       "4     ven  khomishini ya ndinganyiso ya mbeu yo ewa maana...\n",
       "5     nso  dinyakišišo tše tša go dirwa gabedi ka ngwaga ...\n",
       "6     tsn  kgetse nngwe le nngwe e e sa faposiwang mo tsh...\n",
       "7     ven  mbadelo dze dza laelwa dzi do kwama mahatulele..."
      ]
     },
     "execution_count": 16,
     "metadata": {},
     "output_type": "execute_result"
    }
   ],
   "source": [
    "df.head(8)"
   ]
  },
  {
   "cell_type": "code",
   "execution_count": 17,
   "id": "cb933ce4",
   "metadata": {},
   "outputs": [
    {
     "data": {
      "text/html": [
       "<div>\n",
       "<style scoped>\n",
       "    .dataframe tbody tr th:only-of-type {\n",
       "        vertical-align: middle;\n",
       "    }\n",
       "\n",
       "    .dataframe tbody tr th {\n",
       "        vertical-align: top;\n",
       "    }\n",
       "\n",
       "    .dataframe thead th {\n",
       "        text-align: right;\n",
       "    }\n",
       "</style>\n",
       "<table border=\"1\" class=\"dataframe\">\n",
       "  <thead>\n",
       "    <tr style=\"text-align: right;\">\n",
       "      <th></th>\n",
       "      <th>index</th>\n",
       "      <th>text</th>\n",
       "    </tr>\n",
       "  </thead>\n",
       "  <tbody>\n",
       "    <tr>\n",
       "      <th>0</th>\n",
       "      <td>1</td>\n",
       "      <td>Mmasepala, fa maemo a a kgethegileng a letlele...</td>\n",
       "    </tr>\n",
       "    <tr>\n",
       "      <th>1</th>\n",
       "      <td>2</td>\n",
       "      <td>Uzakwaziswa ngokufaneleko nakungafuneka eminye...</td>\n",
       "    </tr>\n",
       "    <tr>\n",
       "      <th>2</th>\n",
       "      <td>3</td>\n",
       "      <td>Tshivhumbeo tshi fana na ngano dza vhathu.</td>\n",
       "    </tr>\n",
       "    <tr>\n",
       "      <th>3</th>\n",
       "      <td>4</td>\n",
       "      <td>Kube inja nelikati betingevakala kutsi titsini...</td>\n",
       "    </tr>\n",
       "    <tr>\n",
       "      <th>4</th>\n",
       "      <td>5</td>\n",
       "      <td>Winste op buitelandse valuta.</td>\n",
       "    </tr>\n",
       "    <tr>\n",
       "      <th>5</th>\n",
       "      <td>6</td>\n",
       "      <td>Ke feela dilense tše hlakilego, tša pono e tee...</td>\n",
       "    </tr>\n",
       "    <tr>\n",
       "      <th>6</th>\n",
       "      <td>7</td>\n",
       "      <td>&lt;fn&gt;(762010101403 AM) 1495 Final Gems Birthing...</td>\n",
       "    </tr>\n",
       "    <tr>\n",
       "      <th>7</th>\n",
       "      <td>8</td>\n",
       "      <td>Ntjhafatso ya konteraka ya mosebetsi: Etsa bon...</td>\n",
       "    </tr>\n",
       "    <tr>\n",
       "      <th>8</th>\n",
       "      <td>9</td>\n",
       "      <td>u-GEMS uhlinzeka ngezinzuzo zemithi yezifo ezi...</td>\n",
       "    </tr>\n",
       "    <tr>\n",
       "      <th>9</th>\n",
       "      <td>10</td>\n",
       "      <td>So, on occasion, are statistics misused.</td>\n",
       "    </tr>\n",
       "    <tr>\n",
       "      <th>10</th>\n",
       "      <td>11</td>\n",
       "      <td>Janewari la ngwaga ofe kapa, dikholego tša gag...</td>\n",
       "    </tr>\n",
       "    <tr>\n",
       "      <th>11</th>\n",
       "      <td>12</td>\n",
       "      <td>Ntirho wa mfumo : ku aka swikolo swo ringana n...</td>\n",
       "    </tr>\n",
       "    <tr>\n",
       "      <th>12</th>\n",
       "      <td>13</td>\n",
       "      <td>Kl.(3) e emetswe ke k. 13 ya Molaotheo Tlhabol...</td>\n",
       "    </tr>\n",
       "    <tr>\n",
       "      <th>13</th>\n",
       "      <td>14</td>\n",
       "      <td>Tshabo le ho se sireletsehe hoo ho ile ha baka...</td>\n",
       "    </tr>\n",
       "    <tr>\n",
       "      <th>14</th>\n",
       "      <td>15</td>\n",
       "      <td>Loko u nga ri na ntiyiso wa leswaku xiphiqo xa...</td>\n",
       "    </tr>\n",
       "    <tr>\n",
       "      <th>15</th>\n",
       "      <td>16</td>\n",
       "      <td>lokuthabatha inxaxheba kwiintshukumo neeprogra...</td>\n",
       "    </tr>\n",
       "    <tr>\n",
       "      <th>16</th>\n",
       "      <td>17</td>\n",
       "      <td>Icandelwana (2) lithathelwe indawo licandelo 9...</td>\n",
       "    </tr>\n",
       "    <tr>\n",
       "      <th>17</th>\n",
       "      <td>18</td>\n",
       "      <td>LaMatsebula Yebo Mtilankhatsa, uva kahle. Wona...</td>\n",
       "    </tr>\n",
       "    <tr>\n",
       "      <th>18</th>\n",
       "      <td>19</td>\n",
       "      <td>Enige persoon wat 'n bepaling van hierdie vero...</td>\n",
       "    </tr>\n",
       "    <tr>\n",
       "      <th>19</th>\n",
       "      <td>20</td>\n",
       "      <td>Minisi.a' zwi amba Minisi.</td>\n",
       "    </tr>\n",
       "  </tbody>\n",
       "</table>\n",
       "</div>"
      ],
      "text/plain": [
       "    index                                               text\n",
       "0       1  Mmasepala, fa maemo a a kgethegileng a letlele...\n",
       "1       2  Uzakwaziswa ngokufaneleko nakungafuneka eminye...\n",
       "2       3         Tshivhumbeo tshi fana na ngano dza vhathu.\n",
       "3       4  Kube inja nelikati betingevakala kutsi titsini...\n",
       "4       5                      Winste op buitelandse valuta.\n",
       "5       6  Ke feela dilense tše hlakilego, tša pono e tee...\n",
       "6       7  <fn>(762010101403 AM) 1495 Final Gems Birthing...\n",
       "7       8  Ntjhafatso ya konteraka ya mosebetsi: Etsa bon...\n",
       "8       9  u-GEMS uhlinzeka ngezinzuzo zemithi yezifo ezi...\n",
       "9      10           So, on occasion, are statistics misused.\n",
       "10     11  Janewari la ngwaga ofe kapa, dikholego tša gag...\n",
       "11     12  Ntirho wa mfumo : ku aka swikolo swo ringana n...\n",
       "12     13  Kl.(3) e emetswe ke k. 13 ya Molaotheo Tlhabol...\n",
       "13     14  Tshabo le ho se sireletsehe hoo ho ile ha baka...\n",
       "14     15  Loko u nga ri na ntiyiso wa leswaku xiphiqo xa...\n",
       "15     16  lokuthabatha inxaxheba kwiintshukumo neeprogra...\n",
       "16     17  Icandelwana (2) lithathelwe indawo licandelo 9...\n",
       "17     18  LaMatsebula Yebo Mtilankhatsa, uva kahle. Wona...\n",
       "18     19  Enige persoon wat 'n bepaling van hierdie vero...\n",
       "19     20                         Minisi.a' zwi amba Minisi."
      ]
     },
     "execution_count": 17,
     "metadata": {},
     "output_type": "execute_result"
    }
   ],
   "source": [
    "dftest.head(20)"
   ]
  },
  {
   "cell_type": "code",
   "execution_count": 18,
   "id": "53888225",
   "metadata": {},
   "outputs": [
    {
     "data": {
      "text/plain": [
       "((33000, 2), (5682, 2))"
      ]
     },
     "execution_count": 18,
     "metadata": {},
     "output_type": "execute_result"
    }
   ],
   "source": [
    "df.shape, dftest.shape"
   ]
  },
  {
   "cell_type": "code",
   "execution_count": 19,
   "id": "dede467a",
   "metadata": {},
   "outputs": [
    {
     "name": "stdout",
     "output_type": "stream",
     "text": [
      "<class 'pandas.core.frame.DataFrame'>\n",
      "RangeIndex: 33000 entries, 0 to 32999\n",
      "Data columns (total 2 columns):\n",
      " #   Column   Non-Null Count  Dtype \n",
      "---  ------   --------------  ----- \n",
      " 0   lang_id  33000 non-null  object\n",
      " 1   text     33000 non-null  object\n",
      "dtypes: object(2)\n",
      "memory usage: 515.8+ KB\n"
     ]
    }
   ],
   "source": [
    "df.info()"
   ]
  },
  {
   "cell_type": "code",
   "execution_count": 20,
   "id": "01a70b6e",
   "metadata": {},
   "outputs": [
    {
     "data": {
      "text/plain": [
       "lang_id\n",
       "xho    3000\n",
       "eng    3000\n",
       "nso    3000\n",
       "ven    3000\n",
       "tsn    3000\n",
       "nbl    3000\n",
       "zul    3000\n",
       "ssw    3000\n",
       "tso    3000\n",
       "sot    3000\n",
       "afr    3000\n",
       "Name: count, dtype: int64"
      ]
     },
     "execution_count": 20,
     "metadata": {},
     "output_type": "execute_result"
    }
   ],
   "source": [
    "df[\"lang_id\"].value_counts()"
   ]
  },
  {
   "cell_type": "markdown",
   "id": "d06a7683",
   "metadata": {},
   "source": [
    "# Feature Seperation\n",
    " "
   ]
  },
  {
   "cell_type": "markdown",
   "id": "19c16171",
   "metadata": {},
   "source": [
    "# Text Pre-processing \n",
    "\n",
    "Removing any noise in our dataset"
   ]
  },
  {
   "cell_type": "code",
   "execution_count": 21,
   "id": "18d2bd80",
   "metadata": {},
   "outputs": [
    {
     "name": "stdout",
     "output_type": "stream",
     "text": [
      "Removing URLs...\n",
      "Lowering case...\n",
      "Cleaning punctuation...\n"
     ]
    }
   ],
   "source": [
    "## Remove urls\n",
    "print ('Removing URLs...')\n",
    "pattern_url = r'http[s]?://(?:[A-Za-z]|[0-9]|[$-_@.&+]|[!*\\(\\),]|(?:%[0-9A-Fa-f][0-9A-Fa-f]))+'\n",
    "subs_url = r'url-web'\n",
    "df['text'] = df['text'].replace(to_replace = pattern_url, value = subs_url, regex = True)\n",
    "\n",
    "# Make lower case\n",
    "print ('Lowering case...')\n",
    "df['text'] = df['text'].str.lower()\n",
    "\n",
    "# Remove punctuation\n",
    "import string\n",
    "print ('Cleaning punctuation...')\n",
    "def remove_punctuation_numbers(post):\n",
    "    punc_numbers = string.punctuation + '0123456789'\n",
    "    return ''.join([l for l in post if l not in punc_numbers])\n",
    "df['text'] = df['text'].apply(remove_punctuation_numbers)"
   ]
  },
  {
   "cell_type": "code",
   "execution_count": 22,
   "id": "d1fb1e28",
   "metadata": {},
   "outputs": [],
   "source": [
    "X = df['text']\n",
    "y = df['lang_id']"
   ]
  },
  {
   "cell_type": "code",
   "execution_count": 23,
   "id": "fff4f7d0",
   "metadata": {},
   "outputs": [],
   "source": [
    "vector = TfidfVectorizer(sublinear_tf=True)\n",
    "vector = TfidfVectorizer(ngram_range=(1,2), min_df=2)\n",
    "X =vector.fit_transform(X)"
   ]
  },
  {
   "cell_type": "code",
   "execution_count": 24,
   "id": "c58f5b4d",
   "metadata": {},
   "outputs": [],
   "source": [
    "X_train, X_test, y_train, y_test = train_test_split(X, y, test_size = 0.20,  random_state = 56)\n",
    "#X_train, X_test, y_train, y_test = train_test_split(X, y, test_size=0.0125, random_state=48)"
   ]
  },
  {
   "cell_type": "code",
   "execution_count": 25,
   "id": "7bc80fc7",
   "metadata": {},
   "outputs": [
    {
     "name": "stdout",
     "output_type": "stream",
     "text": [
      "Training accuracy Score    :  0.9994318181818181\n",
      "Testing accuracy Score :  0.9965151515151515\n",
      "              precision    recall  f1-score   support\n",
      "\n",
      "         afr       1.00      1.00      1.00       611\n",
      "         eng       1.00      1.00      1.00       587\n",
      "         nbl       0.99      0.99      0.99       607\n",
      "         nso       1.00      1.00      1.00       594\n",
      "         sot       1.00      1.00      1.00       576\n",
      "         ssw       1.00      1.00      1.00       643\n",
      "         tsn       1.00      1.00      1.00       613\n",
      "         tso       1.00      1.00      1.00       607\n",
      "         ven       1.00      1.00      1.00       597\n",
      "         xho       1.00      0.98      0.99       588\n",
      "         zul       0.98      0.99      0.99       577\n",
      "\n",
      "    accuracy                           1.00      6600\n",
      "   macro avg       1.00      1.00      1.00      6600\n",
      "weighted avg       1.00      1.00      1.00      6600\n",
      "\n"
     ]
    }
   ],
   "source": [
    "lr = LogisticRegression()\n",
    "\n",
    "lr.fit(X_train, y_train)\n",
    "\n",
    "lr_prediction = lr.predict(X_test)\n",
    "lr_accuracy = accuracy_score(y_test,lr_prediction)\n",
    "\n",
    "print(\"Training accuracy Score    : \",lr.score(X_train,y_train))\n",
    "print(\"Testing accuracy Score : \",lr_accuracy )\n",
    "print(classification_report(lr_prediction,y_test))"
   ]
  },
  {
   "cell_type": "markdown",
   "id": "7c8101f1",
   "metadata": {},
   "source": [
    "# Improving a Logistc Model"
   ]
  },
  {
   "cell_type": "code",
   "execution_count": 26,
   "id": "5345f5e5",
   "metadata": {},
   "outputs": [],
   "source": [
    "# Import the scaler module\n",
    "from sklearn import preprocessing\n",
    "scaler = preprocessing.MaxAbsScaler()\n",
    "\n",
    "# Scale data\n",
    "X_scaled = scaler.fit_transform(X)"
   ]
  },
  {
   "cell_type": "code",
   "execution_count": 27,
   "id": "80a5695e",
   "metadata": {},
   "outputs": [],
   "source": [
    "# Split into train and test\n",
    "X1_train, X1_test, y1_train, y1_test = train_test_split(X_scaled, y, test_size=0.2, random_state=10)"
   ]
  },
  {
   "cell_type": "code",
   "execution_count": 28,
   "id": "db02e51a",
   "metadata": {},
   "outputs": [],
   "source": [
    "lm_full = LogisticRegression()"
   ]
  },
  {
   "cell_type": "code",
   "execution_count": 29,
   "id": "e99a81e3",
   "metadata": {},
   "outputs": [
    {
     "data": {
      "text/html": [
       "<style>#sk-container-id-1 {color: black;}#sk-container-id-1 pre{padding: 0;}#sk-container-id-1 div.sk-toggleable {background-color: white;}#sk-container-id-1 label.sk-toggleable__label {cursor: pointer;display: block;width: 100%;margin-bottom: 0;padding: 0.3em;box-sizing: border-box;text-align: center;}#sk-container-id-1 label.sk-toggleable__label-arrow:before {content: \"▸\";float: left;margin-right: 0.25em;color: #696969;}#sk-container-id-1 label.sk-toggleable__label-arrow:hover:before {color: black;}#sk-container-id-1 div.sk-estimator:hover label.sk-toggleable__label-arrow:before {color: black;}#sk-container-id-1 div.sk-toggleable__content {max-height: 0;max-width: 0;overflow: hidden;text-align: left;background-color: #f0f8ff;}#sk-container-id-1 div.sk-toggleable__content pre {margin: 0.2em;color: black;border-radius: 0.25em;background-color: #f0f8ff;}#sk-container-id-1 input.sk-toggleable__control:checked~div.sk-toggleable__content {max-height: 200px;max-width: 100%;overflow: auto;}#sk-container-id-1 input.sk-toggleable__control:checked~label.sk-toggleable__label-arrow:before {content: \"▾\";}#sk-container-id-1 div.sk-estimator input.sk-toggleable__control:checked~label.sk-toggleable__label {background-color: #d4ebff;}#sk-container-id-1 div.sk-label input.sk-toggleable__control:checked~label.sk-toggleable__label {background-color: #d4ebff;}#sk-container-id-1 input.sk-hidden--visually {border: 0;clip: rect(1px 1px 1px 1px);clip: rect(1px, 1px, 1px, 1px);height: 1px;margin: -1px;overflow: hidden;padding: 0;position: absolute;width: 1px;}#sk-container-id-1 div.sk-estimator {font-family: monospace;background-color: #f0f8ff;border: 1px dotted black;border-radius: 0.25em;box-sizing: border-box;margin-bottom: 0.5em;}#sk-container-id-1 div.sk-estimator:hover {background-color: #d4ebff;}#sk-container-id-1 div.sk-parallel-item::after {content: \"\";width: 100%;border-bottom: 1px solid gray;flex-grow: 1;}#sk-container-id-1 div.sk-label:hover label.sk-toggleable__label {background-color: #d4ebff;}#sk-container-id-1 div.sk-serial::before {content: \"\";position: absolute;border-left: 1px solid gray;box-sizing: border-box;top: 0;bottom: 0;left: 50%;z-index: 0;}#sk-container-id-1 div.sk-serial {display: flex;flex-direction: column;align-items: center;background-color: white;padding-right: 0.2em;padding-left: 0.2em;position: relative;}#sk-container-id-1 div.sk-item {position: relative;z-index: 1;}#sk-container-id-1 div.sk-parallel {display: flex;align-items: stretch;justify-content: center;background-color: white;position: relative;}#sk-container-id-1 div.sk-item::before, #sk-container-id-1 div.sk-parallel-item::before {content: \"\";position: absolute;border-left: 1px solid gray;box-sizing: border-box;top: 0;bottom: 0;left: 50%;z-index: -1;}#sk-container-id-1 div.sk-parallel-item {display: flex;flex-direction: column;z-index: 1;position: relative;background-color: white;}#sk-container-id-1 div.sk-parallel-item:first-child::after {align-self: flex-end;width: 50%;}#sk-container-id-1 div.sk-parallel-item:last-child::after {align-self: flex-start;width: 50%;}#sk-container-id-1 div.sk-parallel-item:only-child::after {width: 0;}#sk-container-id-1 div.sk-dashed-wrapped {border: 1px dashed gray;margin: 0 0.4em 0.5em 0.4em;box-sizing: border-box;padding-bottom: 0.4em;background-color: white;}#sk-container-id-1 div.sk-label label {font-family: monospace;font-weight: bold;display: inline-block;line-height: 1.2em;}#sk-container-id-1 div.sk-label-container {text-align: center;}#sk-container-id-1 div.sk-container {/* jupyter's `normalize.less` sets `[hidden] { display: none; }` but bootstrap.min.css set `[hidden] { display: none !important; }` so we also need the `!important` here to be able to override the default hidden behavior on the sphinx rendered scikit-learn.org. See: https://github.com/scikit-learn/scikit-learn/issues/21755 */display: inline-block !important;position: relative;}#sk-container-id-1 div.sk-text-repr-fallback {display: none;}</style><div id=\"sk-container-id-1\" class=\"sk-top-container\"><div class=\"sk-text-repr-fallback\"><pre>LogisticRegression()</pre><b>In a Jupyter environment, please rerun this cell to show the HTML representation or trust the notebook. <br />On GitHub, the HTML representation is unable to render, please try loading this page with nbviewer.org.</b></div><div class=\"sk-container\" hidden><div class=\"sk-item\"><div class=\"sk-estimator sk-toggleable\"><input class=\"sk-toggleable__control sk-hidden--visually\" id=\"sk-estimator-id-1\" type=\"checkbox\" checked><label for=\"sk-estimator-id-1\" class=\"sk-toggleable__label sk-toggleable__label-arrow\">LogisticRegression</label><div class=\"sk-toggleable__content\"><pre>LogisticRegression()</pre></div></div></div></div></div>"
      ],
      "text/plain": [
       "LogisticRegression()"
      ]
     },
     "execution_count": 29,
     "metadata": {},
     "output_type": "execute_result"
    }
   ],
   "source": [
    "# No transformations necessary\n",
    "lm_full.fit(X1_train, y1_train)"
   ]
  },
  {
   "cell_type": "code",
   "execution_count": 30,
   "id": "9e8d2425",
   "metadata": {},
   "outputs": [
    {
     "name": "stdout",
     "output_type": "stream",
     "text": [
      "Training accuracy Score    :  1.0\n",
      "Testing accuracy Score :  0.9966666666666667\n",
      "              precision    recall  f1-score   support\n",
      "\n",
      "         afr       1.00      1.00      1.00       572\n",
      "         eng       1.00      1.00      1.00       612\n",
      "         nbl       0.98      1.00      0.99       559\n",
      "         nso       1.00      1.00      1.00       574\n",
      "         sot       1.00      1.00      1.00       567\n",
      "         ssw       1.00      0.99      0.99       648\n",
      "         tsn       1.00      1.00      1.00       587\n",
      "         tso       1.00      1.00      1.00       615\n",
      "         ven       1.00      1.00      1.00       624\n",
      "         xho       1.00      1.00      1.00       606\n",
      "         zul       0.99      0.99      0.99       636\n",
      "\n",
      "    accuracy                           1.00      6600\n",
      "   macro avg       1.00      1.00      1.00      6600\n",
      "weighted avg       1.00      1.00      1.00      6600\n",
      "\n"
     ]
    }
   ],
   "source": [
    "# Generate predictions from full model\n",
    "pred_lm_full = lm_full.predict(X1_test)\n",
    "\n",
    "lm_full_accuracy = accuracy_score(y1_test,pred_lm_full)\n",
    "\n",
    "print(\"Training accuracy Score    : \",lm_full.score(X1_train,y1_train))\n",
    "print(\"Testing accuracy Score : \",lm_full_accuracy )\n",
    "print(classification_report(pred_lm_full,y1_test))"
   ]
  },
  {
   "cell_type": "code",
   "execution_count": 33,
   "id": "17ace701",
   "metadata": {},
   "outputs": [],
   "source": [
    "y3 = df['lang_id']\n",
    "y3 = y3.iloc[:5682]\n",
    "test2 = dftest['text']\n",
    "test2 = test2.iloc[:5682]\n",
    "X3 = test2\n",
    "X1_test =vector.transform(X3)\n",
    "\n",
    "test_pred = lm_full.predict(X1_test)\n",
    "\n",
    "y3 = test_pred\n",
    "test['lang_id'] = test_pred\n",
    "\n",
    "submit = test[['index','lang_id']]\n",
    "submit.to_csv('C:\\\\Users\\\\admin\\\\Desktop\\\\Hackathon\\\\submit\\\\submitlogisticReg3.csv', index=False)\n"
   ]
  },
  {
   "cell_type": "code",
   "execution_count": 34,
   "id": "07e5ab77",
   "metadata": {},
   "outputs": [
    {
     "data": {
      "text/html": [
       "<div>\n",
       "<style scoped>\n",
       "    .dataframe tbody tr th:only-of-type {\n",
       "        vertical-align: middle;\n",
       "    }\n",
       "\n",
       "    .dataframe tbody tr th {\n",
       "        vertical-align: top;\n",
       "    }\n",
       "\n",
       "    .dataframe thead th {\n",
       "        text-align: right;\n",
       "    }\n",
       "</style>\n",
       "<table border=\"1\" class=\"dataframe\">\n",
       "  <thead>\n",
       "    <tr style=\"text-align: right;\">\n",
       "      <th></th>\n",
       "      <th>index</th>\n",
       "      <th>lang_id</th>\n",
       "    </tr>\n",
       "  </thead>\n",
       "  <tbody>\n",
       "    <tr>\n",
       "      <th>0</th>\n",
       "      <td>1</td>\n",
       "      <td>ssw</td>\n",
       "    </tr>\n",
       "    <tr>\n",
       "      <th>1</th>\n",
       "      <td>2</td>\n",
       "      <td>nbl</td>\n",
       "    </tr>\n",
       "    <tr>\n",
       "      <th>2</th>\n",
       "      <td>3</td>\n",
       "      <td>xho</td>\n",
       "    </tr>\n",
       "    <tr>\n",
       "      <th>3</th>\n",
       "      <td>4</td>\n",
       "      <td>ssw</td>\n",
       "    </tr>\n",
       "    <tr>\n",
       "      <th>4</th>\n",
       "      <td>5</td>\n",
       "      <td>ssw</td>\n",
       "    </tr>\n",
       "    <tr>\n",
       "      <th>...</th>\n",
       "      <td>...</td>\n",
       "      <td>...</td>\n",
       "    </tr>\n",
       "    <tr>\n",
       "      <th>5677</th>\n",
       "      <td>5678</td>\n",
       "      <td>ssw</td>\n",
       "    </tr>\n",
       "    <tr>\n",
       "      <th>5678</th>\n",
       "      <td>5679</td>\n",
       "      <td>nso</td>\n",
       "    </tr>\n",
       "    <tr>\n",
       "      <th>5679</th>\n",
       "      <td>5680</td>\n",
       "      <td>sot</td>\n",
       "    </tr>\n",
       "    <tr>\n",
       "      <th>5680</th>\n",
       "      <td>5681</td>\n",
       "      <td>sot</td>\n",
       "    </tr>\n",
       "    <tr>\n",
       "      <th>5681</th>\n",
       "      <td>5682</td>\n",
       "      <td>ssw</td>\n",
       "    </tr>\n",
       "  </tbody>\n",
       "</table>\n",
       "<p>5682 rows × 2 columns</p>\n",
       "</div>"
      ],
      "text/plain": [
       "      index lang_id\n",
       "0         1     ssw\n",
       "1         2     nbl\n",
       "2         3     xho\n",
       "3         4     ssw\n",
       "4         5     ssw\n",
       "...     ...     ...\n",
       "5677   5678     ssw\n",
       "5678   5679     nso\n",
       "5679   5680     sot\n",
       "5680   5681     sot\n",
       "5681   5682     ssw\n",
       "\n",
       "[5682 rows x 2 columns]"
      ]
     },
     "execution_count": 34,
     "metadata": {},
     "output_type": "execute_result"
    }
   ],
   "source": [
    "submit"
   ]
  },
  {
   "cell_type": "code",
   "execution_count": 35,
   "id": "c1e3d1f4",
   "metadata": {},
   "outputs": [
    {
     "name": "stdout",
     "output_type": "stream",
     "text": [
      "training accuracy Score:  0.9995833333333334\n",
      "Testing accuracy Score :  0.9986363636363637\n",
      "              precision    recall  f1-score   support\n",
      "\n",
      "         afr       1.00      1.00      1.00       611\n",
      "         eng       1.00      1.00      1.00       587\n",
      "         nbl       1.00      0.99      1.00       611\n",
      "         nso       1.00      1.00      1.00       594\n",
      "         sot       1.00      1.00      1.00       576\n",
      "         ssw       1.00      1.00      1.00       641\n",
      "         tsn       1.00      1.00      1.00       613\n",
      "         tso       1.00      1.00      1.00       607\n",
      "         ven       1.00      1.00      1.00       597\n",
      "         xho       1.00      1.00      1.00       579\n",
      "         zul       0.99      1.00      1.00       584\n",
      "\n",
      "    accuracy                           1.00      6600\n",
      "   macro avg       1.00      1.00      1.00      6600\n",
      "weighted avg       1.00      1.00      1.00      6600\n",
      "\n"
     ]
    }
   ],
   "source": [
    "NB = MultinomialNB()\n",
    "\n",
    "NB.fit(X_train,y_train)\n",
    "\n",
    "NB_prediction = NB.predict(X_test)\n",
    "\n",
    "NB_accuracy = accuracy_score(y_test,NB_prediction)\n",
    "\n",
    "print(\"training accuracy Score: \", NB.score(X_train,y_train))\n",
    "print(\"Testing accuracy Score : \", NB_accuracy )\n",
    "\n",
    "print(classification_report(y_test,NB_prediction))"
   ]
  },
  {
   "cell_type": "code",
   "execution_count": 37,
   "id": "3cfc36c1",
   "metadata": {},
   "outputs": [
    {
     "data": {
      "text/plain": [
       "'index,lang_id\\r\\n1,tsn\\r\\n2,nbl\\r\\n3,ven\\r\\n4,ssw\\r\\n5,afr\\r\\n6,nso\\r\\n7,eng\\r\\n8,sot\\r\\n9,zul\\r\\n10,eng\\r\\n11,nso\\r\\n12,tso\\r\\n13,tsn\\r\\n14,sot\\r\\n15,tso\\r\\n16,xho\\r\\n17,xho\\r\\n18,ssw\\r\\n19,afr\\r\\n20,ven\\r\\n21,afr\\r\\n22,ven\\r\\n23,zul\\r\\n24,afr\\r\\n25,nso\\r\\n26,zul\\r\\n27,ven\\r\\n28,afr\\r\\n29,nso\\r\\n30,tso\\r\\n31,zul\\r\\n32,xho\\r\\n33,sot\\r\\n34,nso\\r\\n35,ssw\\r\\n36,afr\\r\\n37,nso\\r\\n38,xho\\r\\n39,sot\\r\\n40,eng\\r\\n41,zul\\r\\n42,ssw\\r\\n43,ven\\r\\n44,nbl\\r\\n45,afr\\r\\n46,ven\\r\\n47,zul\\r\\n48,ven\\r\\n49,nbl\\r\\n50,tsn\\r\\n51,sot\\r\\n52,xho\\r\\n53,sot\\r\\n54,sot\\r\\n55,zul\\r\\n56,ven\\r\\n57,nbl\\r\\n58,xho\\r\\n59,ssw\\r\\n60,sot\\r\\n61,afr\\r\\n62,tso\\r\\n63,afr\\r\\n64,zul\\r\\n65,xho\\r\\n66,ven\\r\\n67,sot\\r\\n68,nso\\r\\n69,nso\\r\\n70,zul\\r\\n71,tsn\\r\\n72,tso\\r\\n73,xho\\r\\n74,nso\\r\\n75,afr\\r\\n76,ven\\r\\n77,zul\\r\\n78,tso\\r\\n79,xho\\r\\n80,ssw\\r\\n81,tsn\\r\\n82,nso\\r\\n83,xho\\r\\n84,tsn\\r\\n85,afr\\r\\n86,nso\\r\\n87,sot\\r\\n88,tso\\r\\n89,tso\\r\\n90,xho\\r\\n91,ssw\\r\\n92,xho\\r\\n93,zul\\r\\n94,sot\\r\\n95,ssw\\r\\n96,nso\\r\\n97,afr\\r\\n98,ssw\\r\\n99,ven\\r\\n100,nbl\\r\\n101,afr\\r\\n102,tso\\r\\n103,nso\\r\\n104,zul\\r\\n105,ven\\r\\n106,ven\\r\\n107,tsn\\r\\n108,nso\\r\\n109,sot\\r\\n110,sot\\r\\n111,xho\\r\\n112,zul\\r\\n113,xho\\r\\n114,tso\\r\\n115,zul\\r\\n116,sot\\r\\n117,afr\\r\\n118,tsn\\r\\n119,eng\\r\\n120,eng\\r\\n121,sot\\r\\n122,eng\\r\\n123,nbl\\r\\n124,tso\\r\\n125,nso\\r\\n126,afr\\r\\n127,ven\\r\\n128,tso\\r\\n129,tso\\r\\n130,tsn\\r\\n131,tso\\r\\n132,ven\\r\\n133,zul\\r\\n134,sot\\r\\n135,tsn\\r\\n136,ssw\\r\\n137,xho\\r\\n138,sot\\r\\n139,ssw\\r\\n140,afr\\r\\n141,sot\\r\\n142,tsn\\r\\n143,nbl\\r\\n144,nso\\r\\n145,nbl\\r\\n146,ven\\r\\n147,nso\\r\\n148,sot\\r\\n149,xho\\r\\n150,ven\\r\\n151,nso\\r\\n152,xho\\r\\n153,xho\\r\\n154,sot\\r\\n155,sot\\r\\n156,ven\\r\\n157,ven\\r\\n158,tsn\\r\\n159,eng\\r\\n160,sot\\r\\n161,zul\\r\\n162,tso\\r\\n163,nso\\r\\n164,xho\\r\\n165,tsn\\r\\n166,sot\\r\\n167,xho\\r\\n168,zul\\r\\n169,eng\\r\\n170,nbl\\r\\n171,xho\\r\\n172,nso\\r\\n173,xho\\r\\n174,afr\\r\\n175,tso\\r\\n176,nso\\r\\n177,afr\\r\\n178,xho\\r\\n179,tso\\r\\n180,xho\\r\\n181,sot\\r\\n182,nso\\r\\n183,ssw\\r\\n184,ssw\\r\\n185,sot\\r\\n186,sot\\r\\n187,zul\\r\\n188,nbl\\r\\n189,zul\\r\\n190,nbl\\r\\n191,xho\\r\\n192,tso\\r\\n193,sot\\r\\n194,afr\\r\\n195,zul\\r\\n196,nso\\r\\n197,sot\\r\\n198,nbl\\r\\n199,xho\\r\\n200,eng\\r\\n201,nso\\r\\n202,afr\\r\\n203,nbl\\r\\n204,ven\\r\\n205,nbl\\r\\n206,afr\\r\\n207,xho\\r\\n208,ven\\r\\n209,tsn\\r\\n210,ssw\\r\\n211,zul\\r\\n212,tso\\r\\n213,afr\\r\\n214,nbl\\r\\n215,ven\\r\\n216,afr\\r\\n217,afr\\r\\n218,tso\\r\\n219,afr\\r\\n220,eng\\r\\n221,tso\\r\\n222,ven\\r\\n223,afr\\r\\n224,eng\\r\\n225,eng\\r\\n226,tsn\\r\\n227,nso\\r\\n228,eng\\r\\n229,xho\\r\\n230,nso\\r\\n231,nbl\\r\\n232,ven\\r\\n233,ven\\r\\n234,sot\\r\\n235,xho\\r\\n236,xho\\r\\n237,sot\\r\\n238,tso\\r\\n239,sot\\r\\n240,nso\\r\\n241,afr\\r\\n242,afr\\r\\n243,ssw\\r\\n244,nbl\\r\\n245,ssw\\r\\n246,nso\\r\\n247,nso\\r\\n248,nso\\r\\n249,nbl\\r\\n250,ssw\\r\\n251,zul\\r\\n252,sot\\r\\n253,sot\\r\\n254,afr\\r\\n255,nbl\\r\\n256,zul\\r\\n257,nso\\r\\n258,tsn\\r\\n259,eng\\r\\n260,tsn\\r\\n261,zul\\r\\n262,sot\\r\\n263,nbl\\r\\n264,sot\\r\\n265,nbl\\r\\n266,xho\\r\\n267,ven\\r\\n268,ssw\\r\\n269,zul\\r\\n270,afr\\r\\n271,nso\\r\\n272,afr\\r\\n273,ssw\\r\\n274,nso\\r\\n275,ven\\r\\n276,sot\\r\\n277,ven\\r\\n278,nso\\r\\n279,sot\\r\\n280,ssw\\r\\n281,xho\\r\\n282,nso\\r\\n283,zul\\r\\n284,nbl\\r\\n285,eng\\r\\n286,nbl\\r\\n287,nso\\r\\n288,zul\\r\\n289,xho\\r\\n290,sot\\r\\n291,nso\\r\\n292,nso\\r\\n293,tso\\r\\n294,nso\\r\\n295,tsn\\r\\n296,xho\\r\\n297,nso\\r\\n298,nso\\r\\n299,zul\\r\\n300,sot\\r\\n301,zul\\r\\n302,afr\\r\\n303,xho\\r\\n304,ven\\r\\n305,nso\\r\\n306,eng\\r\\n307,nso\\r\\n308,sot\\r\\n309,ven\\r\\n310,xho\\r\\n311,ssw\\r\\n312,zul\\r\\n313,tso\\r\\n314,xho\\r\\n315,afr\\r\\n316,nso\\r\\n317,afr\\r\\n318,nso\\r\\n319,ven\\r\\n320,ven\\r\\n321,ven\\r\\n322,xho\\r\\n323,sot\\r\\n324,nso\\r\\n325,xho\\r\\n326,afr\\r\\n327,xho\\r\\n328,tsn\\r\\n329,ven\\r\\n330,afr\\r\\n331,nbl\\r\\n332,xho\\r\\n333,ssw\\r\\n334,ssw\\r\\n335,sot\\r\\n336,afr\\r\\n337,afr\\r\\n338,ven\\r\\n339,tso\\r\\n340,sot\\r\\n341,nso\\r\\n342,ssw\\r\\n343,xho\\r\\n344,ven\\r\\n345,tso\\r\\n346,tsn\\r\\n347,tso\\r\\n348,tso\\r\\n349,xho\\r\\n350,afr\\r\\n351,xho\\r\\n352,afr\\r\\n353,nso\\r\\n354,nso\\r\\n355,sot\\r\\n356,ssw\\r\\n357,ven\\r\\n358,nso\\r\\n359,nso\\r\\n360,zul\\r\\n361,afr\\r\\n362,tso\\r\\n363,nso\\r\\n364,tso\\r\\n365,tso\\r\\n366,xho\\r\\n367,zul\\r\\n368,xho\\r\\n369,eng\\r\\n370,afr\\r\\n371,nbl\\r\\n372,afr\\r\\n373,ven\\r\\n374,xho\\r\\n375,ven\\r\\n376,tsn\\r\\n377,nso\\r\\n378,zul\\r\\n379,nso\\r\\n380,nso\\r\\n381,tso\\r\\n382,tsn\\r\\n383,xho\\r\\n384,tsn\\r\\n385,afr\\r\\n386,tsn\\r\\n387,xho\\r\\n388,sot\\r\\n389,zul\\r\\n390,sot\\r\\n391,nso\\r\\n392,afr\\r\\n393,ven\\r\\n394,nso\\r\\n395,nbl\\r\\n396,nso\\r\\n397,xho\\r\\n398,sot\\r\\n399,afr\\r\\n400,ssw\\r\\n401,sot\\r\\n402,tso\\r\\n403,nso\\r\\n404,nso\\r\\n405,eng\\r\\n406,nso\\r\\n407,eng\\r\\n408,nbl\\r\\n409,tso\\r\\n410,zul\\r\\n411,xho\\r\\n412,ssw\\r\\n413,nso\\r\\n414,nso\\r\\n415,xho\\r\\n416,nso\\r\\n417,xho\\r\\n418,tso\\r\\n419,tso\\r\\n420,tso\\r\\n421,tsn\\r\\n422,ven\\r\\n423,ven\\r\\n424,xho\\r\\n425,ven\\r\\n426,afr\\r\\n427,sot\\r\\n428,nbl\\r\\n429,zul\\r\\n430,zul\\r\\n431,nso\\r\\n432,afr\\r\\n433,tsn\\r\\n434,tsn\\r\\n435,afr\\r\\n436,ven\\r\\n437,afr\\r\\n438,tso\\r\\n439,xho\\r\\n440,ven\\r\\n441,nso\\r\\n442,xho\\r\\n443,sot\\r\\n444,xho\\r\\n445,ssw\\r\\n446,xho\\r\\n447,tso\\r\\n448,zul\\r\\n449,tsn\\r\\n450,nbl\\r\\n451,ssw\\r\\n452,ssw\\r\\n453,ven\\r\\n454,eng\\r\\n455,tsn\\r\\n456,ven\\r\\n457,tsn\\r\\n458,afr\\r\\n459,sot\\r\\n460,ssw\\r\\n461,ven\\r\\n462,afr\\r\\n463,xho\\r\\n464,sot\\r\\n465,ven\\r\\n466,xho\\r\\n467,ssw\\r\\n468,xho\\r\\n469,zul\\r\\n470,zul\\r\\n471,eng\\r\\n472,xho\\r\\n473,afr\\r\\n474,afr\\r\\n475,nso\\r\\n476,xho\\r\\n477,xho\\r\\n478,nso\\r\\n479,sot\\r\\n480,tso\\r\\n481,zul\\r\\n482,tso\\r\\n483,afr\\r\\n484,nbl\\r\\n485,nso\\r\\n486,ssw\\r\\n487,eng\\r\\n488,ven\\r\\n489,nso\\r\\n490,nso\\r\\n491,nso\\r\\n492,nso\\r\\n493,afr\\r\\n494,ven\\r\\n495,nso\\r\\n496,ven\\r\\n497,ven\\r\\n498,ven\\r\\n499,zul\\r\\n500,ven\\r\\n501,nbl\\r\\n502,nso\\r\\n503,nbl\\r\\n504,tsn\\r\\n505,nso\\r\\n506,afr\\r\\n507,afr\\r\\n508,sot\\r\\n509,afr\\r\\n510,afr\\r\\n511,afr\\r\\n512,nbl\\r\\n513,eng\\r\\n514,tsn\\r\\n515,afr\\r\\n516,tsn\\r\\n517,eng\\r\\n518,tsn\\r\\n519,tso\\r\\n520,ven\\r\\n521,ssw\\r\\n522,xho\\r\\n523,ven\\r\\n524,tsn\\r\\n525,afr\\r\\n526,ven\\r\\n527,nbl\\r\\n528,xho\\r\\n529,sot\\r\\n530,nso\\r\\n531,nso\\r\\n532,afr\\r\\n533,nso\\r\\n534,tsn\\r\\n535,tsn\\r\\n536,tso\\r\\n537,tsn\\r\\n538,eng\\r\\n539,ven\\r\\n540,xho\\r\\n541,xho\\r\\n542,zul\\r\\n543,tso\\r\\n544,sot\\r\\n545,ssw\\r\\n546,tso\\r\\n547,xho\\r\\n548,eng\\r\\n549,nso\\r\\n550,tsn\\r\\n551,tsn\\r\\n552,eng\\r\\n553,zul\\r\\n554,xho\\r\\n555,ven\\r\\n556,eng\\r\\n557,sot\\r\\n558,ven\\r\\n559,afr\\r\\n560,nbl\\r\\n561,tsn\\r\\n562,xho\\r\\n563,afr\\r\\n564,zul\\r\\n565,ssw\\r\\n566,xho\\r\\n567,xho\\r\\n568,tsn\\r\\n569,afr\\r\\n570,afr\\r\\n571,eng\\r\\n572,tsn\\r\\n573,sot\\r\\n574,ssw\\r\\n575,tsn\\r\\n576,tsn\\r\\n577,nbl\\r\\n578,nbl\\r\\n579,afr\\r\\n580,ven\\r\\n581,xho\\r\\n582,sot\\r\\n583,xho\\r\\n584,ven\\r\\n585,afr\\r\\n586,ven\\r\\n587,eng\\r\\n588,eng\\r\\n589,afr\\r\\n590,afr\\r\\n591,xho\\r\\n592,sot\\r\\n593,ven\\r\\n594,afr\\r\\n595,nso\\r\\n596,ven\\r\\n597,ssw\\r\\n598,ven\\r\\n599,ven\\r\\n600,afr\\r\\n601,zul\\r\\n602,afr\\r\\n603,nso\\r\\n604,nso\\r\\n605,tso\\r\\n606,ven\\r\\n607,nso\\r\\n608,afr\\r\\n609,afr\\r\\n610,ven\\r\\n611,tsn\\r\\n612,sot\\r\\n613,ssw\\r\\n614,xho\\r\\n615,afr\\r\\n616,tso\\r\\n617,tsn\\r\\n618,ven\\r\\n619,nbl\\r\\n620,tso\\r\\n621,tso\\r\\n622,nbl\\r\\n623,xho\\r\\n624,xho\\r\\n625,nso\\r\\n626,zul\\r\\n627,xho\\r\\n628,ven\\r\\n629,ven\\r\\n630,zul\\r\\n631,nso\\r\\n632,xho\\r\\n633,ssw\\r\\n634,sot\\r\\n635,afr\\r\\n636,xho\\r\\n637,nbl\\r\\n638,eng\\r\\n639,sot\\r\\n640,tsn\\r\\n641,ven\\r\\n642,tso\\r\\n643,tsn\\r\\n644,tso\\r\\n645,tsn\\r\\n646,afr\\r\\n647,xho\\r\\n648,afr\\r\\n649,tso\\r\\n650,sot\\r\\n651,afr\\r\\n652,tsn\\r\\n653,ven\\r\\n654,nso\\r\\n655,ven\\r\\n656,afr\\r\\n657,sot\\r\\n658,sot\\r\\n659,sot\\r\\n660,zul\\r\\n661,xho\\r\\n662,afr\\r\\n663,tsn\\r\\n664,tso\\r\\n665,ven\\r\\n666,nbl\\r\\n667,sot\\r\\n668,xho\\r\\n669,sot\\r\\n670,nbl\\r\\n671,nso\\r\\n672,afr\\r\\n673,tso\\r\\n674,tsn\\r\\n675,xho\\r\\n676,nbl\\r\\n677,afr\\r\\n678,afr\\r\\n679,tsn\\r\\n680,nso\\r\\n681,xho\\r\\n682,xho\\r\\n683,zul\\r\\n684,tsn\\r\\n685,sot\\r\\n686,xho\\r\\n687,nbl\\r\\n688,afr\\r\\n689,nso\\r\\n690,afr\\r\\n691,eng\\r\\n692,afr\\r\\n693,nso\\r\\n694,afr\\r\\n695,ssw\\r\\n696,zul\\r\\n697,tso\\r\\n698,nso\\r\\n699,nso\\r\\n700,ven\\r\\n701,sot\\r\\n702,tso\\r\\n703,tsn\\r\\n704,xho\\r\\n705,sot\\r\\n706,tsn\\r\\n707,xho\\r\\n708,nso\\r\\n709,tsn\\r\\n710,nso\\r\\n711,sot\\r\\n712,tsn\\r\\n713,nbl\\r\\n714,tso\\r\\n715,ven\\r\\n716,sot\\r\\n717,tso\\r\\n718,tso\\r\\n719,afr\\r\\n720,eng\\r\\n721,ven\\r\\n722,afr\\r\\n723,xho\\r\\n724,sot\\r\\n725,nbl\\r\\n726,sot\\r\\n727,nso\\r\\n728,nbl\\r\\n729,sot\\r\\n730,sot\\r\\n731,xho\\r\\n732,sot\\r\\n733,sot\\r\\n734,tsn\\r\\n735,eng\\r\\n736,afr\\r\\n737,ssw\\r\\n738,eng\\r\\n739,afr\\r\\n740,ven\\r\\n741,afr\\r\\n742,sot\\r\\n743,tsn\\r\\n744,tsn\\r\\n745,eng\\r\\n746,tsn\\r\\n747,ven\\r\\n748,tso\\r\\n749,ven\\r\\n750,zul\\r\\n751,ssw\\r\\n752,afr\\r\\n753,xho\\r\\n754,tsn\\r\\n755,eng\\r\\n756,nso\\r\\n757,nbl\\r\\n758,tso\\r\\n759,tso\\r\\n760,ssw\\r\\n761,afr\\r\\n762,tsn\\r\\n763,nso\\r\\n764,ven\\r\\n765,xho\\r\\n766,nso\\r\\n767,nso\\r\\n768,nso\\r\\n769,sot\\r\\n770,ven\\r\\n771,eng\\r\\n772,tsn\\r\\n773,ven\\r\\n774,afr\\r\\n775,eng\\r\\n776,tso\\r\\n777,tsn\\r\\n778,ssw\\r\\n779,afr\\r\\n780,tsn\\r\\n781,nbl\\r\\n782,zul\\r\\n783,afr\\r\\n784,nso\\r\\n785,sot\\r\\n786,afr\\r\\n787,xho\\r\\n788,nso\\r\\n789,nso\\r\\n790,tso\\r\\n791,zul\\r\\n792,xho\\r\\n793,nbl\\r\\n794,tso\\r\\n795,eng\\r\\n796,xho\\r\\n797,tsn\\r\\n798,xho\\r\\n799,tsn\\r\\n800,ssw\\r\\n801,afr\\r\\n802,afr\\r\\n803,nso\\r\\n804,nso\\r\\n805,xho\\r\\n806,tso\\r\\n807,tsn\\r\\n808,afr\\r\\n809,zul\\r\\n810,xho\\r\\n811,eng\\r\\n812,nso\\r\\n813,zul\\r\\n814,ven\\r\\n815,nbl\\r\\n816,nso\\r\\n817,xho\\r\\n818,tsn\\r\\n819,afr\\r\\n820,nbl\\r\\n821,afr\\r\\n822,ven\\r\\n823,nso\\r\\n824,eng\\r\\n825,nso\\r\\n826,sot\\r\\n827,ven\\r\\n828,nso\\r\\n829,ven\\r\\n830,afr\\r\\n831,nso\\r\\n832,xho\\r\\n833,ssw\\r\\n834,ssw\\r\\n835,eng\\r\\n836,nso\\r\\n837,afr\\r\\n838,afr\\r\\n839,tsn\\r\\n840,nso\\r\\n841,eng\\r\\n842,ven\\r\\n843,eng\\r\\n844,tsn\\r\\n845,tsn\\r\\n846,ven\\r\\n847,ven\\r\\n848,xho\\r\\n849,sot\\r\\n850,ven\\r\\n851,tsn\\r\\n852,zul\\r\\n853,ven\\r\\n854,xho\\r\\n855,ven\\r\\n856,sot\\r\\n857,afr\\r\\n858,nbl\\r\\n859,xho\\r\\n860,afr\\r\\n861,nbl\\r\\n862,tsn\\r\\n863,ven\\r\\n864,tsn\\r\\n865,xho\\r\\n866,xho\\r\\n867,ssw\\r\\n868,afr\\r\\n869,nso\\r\\n870,ven\\r\\n871,tsn\\r\\n872,nbl\\r\\n873,ven\\r\\n874,tso\\r\\n875,nso\\r\\n876,sot\\r\\n877,xho\\r\\n878,afr\\r\\n879,xho\\r\\n880,xho\\r\\n881,afr\\r\\n882,afr\\r\\n883,ven\\r\\n884,nso\\r\\n885,xho\\r\\n886,nbl\\r\\n887,xho\\r\\n888,nso\\r\\n889,afr\\r\\n890,afr\\r\\n891,sot\\r\\n892,tsn\\r\\n893,tso\\r\\n894,tsn\\r\\n895,afr\\r\\n896,sot\\r\\n897,ven\\r\\n898,xho\\r\\n899,eng\\r\\n900,sot\\r\\n901,zul\\r\\n902,xho\\r\\n903,xho\\r\\n904,sot\\r\\n905,sot\\r\\n906,ven\\r\\n907,xho\\r\\n908,xho\\r\\n909,sot\\r\\n910,ven\\r\\n911,nbl\\r\\n912,eng\\r\\n913,afr\\r\\n914,nso\\r\\n915,nso\\r\\n916,tsn\\r\\n917,ven\\r\\n918,ssw\\r\\n919,nso\\r\\n920,ven\\r\\n921,sot\\r\\n922,afr\\r\\n923,ven\\r\\n924,afr\\r\\n925,sot\\r\\n926,ven\\r\\n927,sot\\r\\n928,nso\\r\\n929,afr\\r\\n930,xho\\r\\n931,tsn\\r\\n932,tso\\r\\n933,ven\\r\\n934,tsn\\r\\n935,tso\\r\\n936,xho\\r\\n937,nbl\\r\\n938,sot\\r\\n939,nso\\r\\n940,tso\\r\\n941,afr\\r\\n942,tsn\\r\\n943,tso\\r\\n944,tsn\\r\\n945,nso\\r\\n946,afr\\r\\n947,ven\\r\\n948,nso\\r\\n949,ven\\r\\n950,tsn\\r\\n951,ssw\\r\\n952,ven\\r\\n953,sot\\r\\n954,zul\\r\\n955,eng\\r\\n956,sot\\r\\n957,xho\\r\\n958,ssw\\r\\n959,ven\\r\\n960,ssw\\r\\n961,nso\\r\\n962,tso\\r\\n963,ssw\\r\\n964,tso\\r\\n965,afr\\r\\n966,tsn\\r\\n967,afr\\r\\n968,tso\\r\\n969,tsn\\r\\n970,zul\\r\\n971,afr\\r\\n972,ven\\r\\n973,nso\\r\\n974,zul\\r\\n975,sot\\r\\n976,nso\\r\\n977,nso\\r\\n978,ssw\\r\\n979,tsn\\r\\n980,zul\\r\\n981,tso\\r\\n982,xho\\r\\n983,afr\\r\\n984,afr\\r\\n985,sot\\r\\n986,ssw\\r\\n987,ven\\r\\n988,nbl\\r\\n989,afr\\r\\n990,ven\\r\\n991,nbl\\r\\n992,xho\\r\\n993,tsn\\r\\n994,ven\\r\\n995,afr\\r\\n996,ven\\r\\n997,nso\\r\\n998,afr\\r\\n999,ssw\\r\\n1000,afr\\r\\n1001,xho\\r\\n1002,tso\\r\\n1003,tsn\\r\\n1004,sot\\r\\n1005,afr\\r\\n1006,xho\\r\\n1007,sot\\r\\n1008,ssw\\r\\n1009,zul\\r\\n1010,xho\\r\\n1011,xho\\r\\n1012,tsn\\r\\n1013,ven\\r\\n1014,xho\\r\\n1015,afr\\r\\n1016,tsn\\r\\n1017,sot\\r\\n1018,afr\\r\\n1019,xho\\r\\n1020,tso\\r\\n1021,tsn\\r\\n1022,nso\\r\\n1023,afr\\r\\n1024,tso\\r\\n1025,nbl\\r\\n1026,afr\\r\\n1027,sot\\r\\n1028,afr\\r\\n1029,ssw\\r\\n1030,xho\\r\\n1031,ssw\\r\\n1032,sot\\r\\n1033,xho\\r\\n1034,tso\\r\\n1035,sot\\r\\n1036,nso\\r\\n1037,tso\\r\\n1038,nso\\r\\n1039,nso\\r\\n1040,afr\\r\\n1041,tso\\r\\n1042,afr\\r\\n1043,ssw\\r\\n1044,nso\\r\\n1045,tso\\r\\n1046,afr\\r\\n1047,xho\\r\\n1048,eng\\r\\n1049,sot\\r\\n1050,ssw\\r\\n1051,zul\\r\\n1052,nso\\r\\n1053,nso\\r\\n1054,tsn\\r\\n1055,nso\\r\\n1056,eng\\r\\n1057,sot\\r\\n1058,sot\\r\\n1059,tsn\\r\\n1060,ssw\\r\\n1061,eng\\r\\n1062,xho\\r\\n1063,xho\\r\\n1064,nso\\r\\n1065,tsn\\r\\n1066,zul\\r\\n1067,tso\\r\\n1068,ssw\\r\\n1069,nbl\\r\\n1070,tsn\\r\\n1071,tsn\\r\\n1072,sot\\r\\n1073,tso\\r\\n1074,eng\\r\\n1075,tsn\\r\\n1076,sot\\r\\n1077,zul\\r\\n1078,ven\\r\\n1079,afr\\r\\n1080,sot\\r\\n1081,nbl\\r\\n1082,ven\\r\\n1083,xho\\r\\n1084,tsn\\r\\n1085,zul\\r\\n1086,sot\\r\\n1087,ven\\r\\n1088,tsn\\r\\n1089,nso\\r\\n1090,ven\\r\\n1091,tso\\r\\n1092,zul\\r\\n1093,ven\\r\\n1094,tso\\r\\n1095,xho\\r\\n1096,xho\\r\\n1097,ven\\r\\n1098,tso\\r\\n1099,afr\\r\\n1100,sot\\r\\n1101,xho\\r\\n1102,zul\\r\\n1103,zul\\r\\n1104,sot\\r\\n1105,nso\\r\\n1106,xho\\r\\n1107,nso\\r\\n1108,nso\\r\\n1109,ven\\r\\n1110,ven\\r\\n1111,xho\\r\\n1112,nbl\\r\\n1113,tso\\r\\n1114,tso\\r\\n1115,afr\\r\\n1116,afr\\r\\n1117,afr\\r\\n1118,tso\\r\\n1119,tsn\\r\\n1120,ven\\r\\n1121,nso\\r\\n1122,tsn\\r\\n1123,nso\\r\\n1124,afr\\r\\n1125,tsn\\r\\n1126,tso\\r\\n1127,ven\\r\\n1128,tso\\r\\n1129,afr\\r\\n1130,tso\\r\\n1131,sot\\r\\n1132,afr\\r\\n1133,afr\\r\\n1134,zul\\r\\n1135,tsn\\r\\n1136,xho\\r\\n1137,tsn\\r\\n1138,zul\\r\\n1139,ven\\r\\n1140,eng\\r\\n1141,tso\\r\\n1142,afr\\r\\n1143,zul\\r\\n1144,tso\\r\\n1145,tso\\r\\n1146,ven\\r\\n1147,ven\\r\\n1148,tsn\\r\\n1149,nso\\r\\n1150,tsn\\r\\n1151,ven\\r\\n1152,xho\\r\\n1153,nso\\r\\n1154,xho\\r\\n1155,tsn\\r\\n1156,xho\\r\\n1157,sot\\r\\n1158,nso\\r\\n1159,tso\\r\\n1160,afr\\r\\n1161,sot\\r\\n1162,xho\\r\\n1163,ssw\\r\\n1164,tso\\r\\n1165,eng\\r\\n1166,xho\\r\\n1167,xho\\r\\n1168,nbl\\r\\n1169,tso\\r\\n1170,xho\\r\\n1171,tsn\\r\\n1172,tsn\\r\\n1173,eng\\r\\n1174,nbl\\r\\n1175,eng\\r\\n1176,ssw\\r\\n1177,nso\\r\\n1178,nbl\\r\\n1179,eng\\r\\n1180,zul\\r\\n1181,ven\\r\\n1182,nso\\r\\n1183,nso\\r\\n1184,nso\\r\\n1185,nso\\r\\n1186,afr\\r\\n1187,ven\\r\\n1188,sot\\r\\n1189,nso\\r\\n1190,nso\\r\\n1191,nso\\r\\n1192,ven\\r\\n1193,eng\\r\\n1194,xho\\r\\n1195,nso\\r\\n1196,afr\\r\\n1197,zul\\r\\n1198,sot\\r\\n1199,zul\\r\\n1200,zul\\r\\n1201,tso\\r\\n1202,tso\\r\\n1203,nso\\r\\n1204,xho\\r\\n1205,nso\\r\\n1206,afr\\r\\n1207,xho\\r\\n1208,tsn\\r\\n1209,nso\\r\\n1210,afr\\r\\n1211,tsn\\r\\n1212,nso\\r\\n1213,xho\\r\\n1214,nso\\r\\n1215,eng\\r\\n1216,xho\\r\\n1217,afr\\r\\n1218,ssw\\r\\n1219,ssw\\r\\n1220,afr\\r\\n1221,tso\\r\\n1222,nso\\r\\n1223,afr\\r\\n1224,zul\\r\\n1225,ssw\\r\\n1226,zul\\r\\n1227,tso\\r\\n1228,nbl\\r\\n1229,eng\\r\\n1230,nbl\\r\\n1231,ssw\\r\\n1232,xho\\r\\n1233,ven\\r\\n1234,tsn\\r\\n1235,sot\\r\\n1236,ven\\r\\n1237,afr\\r\\n1238,afr\\r\\n1239,zul\\r\\n1240,sot\\r\\n1241,afr\\r\\n1242,ssw\\r\\n1243,afr\\r\\n1244,afr\\r\\n1245,ssw\\r\\n1246,sot\\r\\n1247,eng\\r\\n1248,sot\\r\\n1249,ven\\r\\n1250,nso\\r\\n1251,ssw\\r\\n1252,zul\\r\\n1253,nso\\r\\n1254,tso\\r\\n1255,nso\\r\\n1256,ven\\r\\n1257,nso\\r\\n1258,sot\\r\\n1259,xho\\r\\n1260,ssw\\r\\n1261,afr\\r\\n1262,tsn\\r\\n1263,ssw\\r\\n1264,tsn\\r\\n1265,afr\\r\\n1266,nbl\\r\\n1267,tso\\r\\n1268,nso\\r\\n1269,nbl\\r\\n1270,ven\\r\\n1271,zul\\r\\n1272,nso\\r\\n1273,ven\\r\\n1274,afr\\r\\n1275,ssw\\r\\n1276,afr\\r\\n1277,xho\\r\\n1278,xho\\r\\n1279,eng\\r\\n1280,tso\\r\\n1281,xho\\r\\n1282,eng\\r\\n1283,nbl\\r\\n1284,ven\\r\\n1285,afr\\r\\n1286,tsn\\r\\n1287,nso\\r\\n1288,nbl\\r\\n1289,sot\\r\\n1290,afr\\r\\n1291,afr\\r\\n1292,afr\\r\\n1293,xho\\r\\n1294,ven\\r\\n1295,afr\\r\\n1296,ven\\r\\n1297,xho\\r\\n1298,sot\\r\\n1299,tsn\\r\\n1300,nso\\r\\n1301,nbl\\r\\n1302,ssw\\r\\n1303,eng\\r\\n1304,ven\\r\\n1305,sot\\r\\n1306,nso\\r\\n1307,afr\\r\\n1308,ssw\\r\\n1309,afr\\r\\n1310,sot\\r\\n1311,nso\\r\\n1312,xho\\r\\n1313,nso\\r\\n1314,zul\\r\\n1315,tso\\r\\n1316,nbl\\r\\n1317,tsn\\r\\n1318,nbl\\r\\n1319,nso\\r\\n1320,sot\\r\\n1321,afr\\r\\n1322,nso\\r\\n1323,afr\\r\\n1324,ven\\r\\n1325,sot\\r\\n1326,afr\\r\\n1327,afr\\r\\n1328,tso\\r\\n1329,sot\\r\\n1330,tsn\\r\\n1331,ssw\\r\\n1332,zul\\r\\n1333,tso\\r\\n1334,ven\\r\\n1335,ssw\\r\\n1336,tsn\\r\\n1337,tso\\r\\n1338,sot\\r\\n1339,afr\\r\\n1340,nso\\r\\n1341,ven\\r\\n1342,sot\\r\\n1343,nso\\r\\n1344,nso\\r\\n1345,tsn\\r\\n1346,nbl\\r\\n1347,tsn\\r\\n1348,nso\\r\\n1349,nso\\r\\n1350,tso\\r\\n1351,tso\\r\\n1352,xho\\r\\n1353,sot\\r\\n1354,ven\\r\\n1355,ven\\r\\n1356,xho\\r\\n1357,nbl\\r\\n1358,sot\\r\\n1359,zul\\r\\n1360,xho\\r\\n1361,xho\\r\\n1362,xho\\r\\n1363,tsn\\r\\n1364,afr\\r\\n1365,sot\\r\\n1366,ven\\r\\n1367,nso\\r\\n1368,tso\\r\\n1369,tso\\r\\n1370,nso\\r\\n1371,eng\\r\\n1372,ven\\r\\n1373,xho\\r\\n1374,xho\\r\\n1375,afr\\r\\n1376,ven\\r\\n1377,xho\\r\\n1378,nso\\r\\n1379,sot\\r\\n1380,nbl\\r\\n1381,ven\\r\\n1382,tsn\\r\\n1383,ven\\r\\n1384,tsn\\r\\n1385,tsn\\r\\n1386,xho\\r\\n1387,ven\\r\\n1388,ven\\r\\n1389,tsn\\r\\n1390,afr\\r\\n1391,ssw\\r\\n1392,afr\\r\\n1393,ven\\r\\n1394,tso\\r\\n1395,nso\\r\\n1396,tsn\\r\\n1397,nso\\r\\n1398,tso\\r\\n1399,tsn\\r\\n1400,nso\\r\\n1401,zul\\r\\n1402,nso\\r\\n1403,afr\\r\\n1404,afr\\r\\n1405,tsn\\r\\n1406,nso\\r\\n1407,sot\\r\\n1408,nso\\r\\n1409,tso\\r\\n1410,afr\\r\\n1411,zul\\r\\n1412,nso\\r\\n1413,tso\\r\\n1414,sot\\r\\n1415,afr\\r\\n1416,tso\\r\\n1417,nso\\r\\n1418,nso\\r\\n1419,zul\\r\\n1420,nso\\r\\n1421,tsn\\r\\n1422,tsn\\r\\n1423,afr\\r\\n1424,tsn\\r\\n1425,ven\\r\\n1426,xho\\r\\n1427,tsn\\r\\n1428,ven\\r\\n1429,nso\\r\\n1430,xho\\r\\n1431,afr\\r\\n1432,ven\\r\\n1433,tso\\r\\n1434,tsn\\r\\n1435,tso\\r\\n1436,nbl\\r\\n1437,nbl\\r\\n1438,nso\\r\\n1439,ven\\r\\n1440,nso\\r\\n1441,ssw\\r\\n1442,zul\\r\\n1443,ssw\\r\\n1444,nso\\r\\n1445,eng\\r\\n1446,afr\\r\\n1447,afr\\r\\n1448,sot\\r\\n1449,xho\\r\\n1450,afr\\r\\n1451,ven\\r\\n1452,ven\\r\\n1453,tsn\\r\\n1454,ven\\r\\n1455,nso\\r\\n1456,zul\\r\\n1457,tsn\\r\\n1458,ven\\r\\n1459,afr\\r\\n1460,zul\\r\\n1461,xho\\r\\n1462,afr\\r\\n1463,zul\\r\\n1464,ven\\r\\n1465,eng\\r\\n1466,ssw\\r\\n1467,afr\\r\\n1468,tsn\\r\\n1469,tsn\\r\\n1470,xho\\r\\n1471,xho\\r\\n1472,afr\\r\\n1473,zul\\r\\n1474,tso\\r\\n1475,nbl\\r\\n1476,sot\\r\\n1477,nso\\r\\n1478,ven\\r\\n1479,afr\\r\\n1480,xho\\r\\n1481,afr\\r\\n1482,afr\\r\\n1483,afr\\r\\n1484,nbl\\r\\n1485,sot\\r\\n1486,sot\\r\\n1487,tso\\r\\n1488,zul\\r\\n1489,afr\\r\\n1490,nso\\r\\n1491,sot\\r\\n1492,ssw\\r\\n1493,tsn\\r\\n1494,ssw\\r\\n1495,ven\\r\\n1496,xho\\r\\n1497,sot\\r\\n1498,afr\\r\\n1499,eng\\r\\n1500,ven\\r\\n1501,eng\\r\\n1502,ssw\\r\\n1503,ssw\\r\\n1504,nso\\r\\n1505,nso\\r\\n1506,ven\\r\\n1507,ssw\\r\\n1508,ven\\r\\n1509,sot\\r\\n1510,tsn\\r\\n1511,ven\\r\\n1512,zul\\r\\n1513,ven\\r\\n1514,ssw\\r\\n1515,eng\\r\\n1516,xho\\r\\n1517,xho\\r\\n1518,tsn\\r\\n1519,ven\\r\\n1520,sot\\r\\n1521,tso\\r\\n1522,sot\\r\\n1523,afr\\r\\n1524,eng\\r\\n1525,tso\\r\\n1526,sot\\r\\n1527,zul\\r\\n1528,tsn\\r\\n1529,eng\\r\\n1530,afr\\r\\n1531,ssw\\r\\n1532,ssw\\r\\n1533,tsn\\r\\n1534,tsn\\r\\n1535,ven\\r\\n1536,sot\\r\\n1537,nso\\r\\n1538,afr\\r\\n1539,tso\\r\\n1540,sot\\r\\n1541,ven\\r\\n1542,nbl\\r\\n1543,ssw\\r\\n1544,zul\\r\\n1545,tsn\\r\\n1546,xho\\r\\n1547,afr\\r\\n1548,afr\\r\\n1549,tsn\\r\\n1550,ven\\r\\n1551,sot\\r\\n1552,eng\\r\\n1553,ven\\r\\n1554,sot\\r\\n1555,ven\\r\\n1556,xho\\r\\n1557,xho\\r\\n1558,zul\\r\\n1559,tsn\\r\\n1560,xho\\r\\n1561,nbl\\r\\n1562,tsn\\r\\n1563,ven\\r\\n1564,tsn\\r\\n1565,ven\\r\\n1566,ssw\\r\\n1567,tso\\r\\n1568,ssw\\r\\n1569,nso\\r\\n1570,xho\\r\\n1571,sot\\r\\n1572,xho\\r\\n1573,ssw\\r\\n1574,nso\\r\\n1575,ven\\r\\n1576,zul\\r\\n1577,xho\\r\\n1578,afr\\r\\n1579,ssw\\r\\n1580,nbl\\r\\n1581,eng\\r\\n1582,nso\\r\\n1583,afr\\r\\n1584,zul\\r\\n1585,tsn\\r\\n1586,zul\\r\\n1587,tsn\\r\\n1588,ven\\r\\n1589,zul\\r\\n1590,sot\\r\\n1591,eng\\r\\n1592,nso\\r\\n1593,nso\\r\\n1594,xho\\r\\n1595,ssw\\r\\n1596,nso\\r\\n1597,nbl\\r\\n1598,zul\\r\\n1599,tsn\\r\\n1600,zul\\r\\n1601,xho\\r\\n1602,zul\\r\\n1603,zul\\r\\n1604,xho\\r\\n1605,tsn\\r\\n1606,ssw\\r\\n1607,tso\\r\\n1608,zul\\r\\n1609,tsn\\r\\n1610,nbl\\r\\n1611,ven\\r\\n1612,zul\\r\\n1613,nso\\r\\n1614,zul\\r\\n1615,nso\\r\\n1616,sot\\r\\n1617,tso\\r\\n1618,zul\\r\\n1619,zul\\r\\n1620,nbl\\r\\n1621,nso\\r\\n1622,afr\\r\\n1623,eng\\r\\n1624,ven\\r\\n1625,zul\\r\\n1626,tso\\r\\n1627,zul\\r\\n1628,ssw\\r\\n1629,afr\\r\\n1630,xho\\r\\n1631,eng\\r\\n1632,xho\\r\\n1633,tso\\r\\n1634,xho\\r\\n1635,sot\\r\\n1636,zul\\r\\n1637,ven\\r\\n1638,zul\\r\\n1639,sot\\r\\n1640,afr\\r\\n1641,nbl\\r\\n1642,tso\\r\\n1643,eng\\r\\n1644,afr\\r\\n1645,ven\\r\\n1646,tso\\r\\n1647,nso\\r\\n1648,xho\\r\\n1649,ssw\\r\\n1650,ssw\\r\\n1651,tso\\r\\n1652,nso\\r\\n1653,xho\\r\\n1654,nso\\r\\n1655,ven\\r\\n1656,tsn\\r\\n1657,tso\\r\\n1658,afr\\r\\n1659,afr\\r\\n1660,zul\\r\\n1661,tso\\r\\n1662,afr\\r\\n1663,nbl\\r\\n1664,sot\\r\\n1665,nbl\\r\\n1666,tsn\\r\\n1667,afr\\r\\n1668,nbl\\r\\n1669,nso\\r\\n1670,sot\\r\\n1671,afr\\r\\n1672,xho\\r\\n1673,ven\\r\\n1674,ven\\r\\n1675,afr\\r\\n1676,zul\\r\\n1677,afr\\r\\n1678,nso\\r\\n1679,ven\\r\\n1680,tsn\\r\\n1681,tso\\r\\n1682,sot\\r\\n1683,afr\\r\\n1684,ven\\r\\n1685,sot\\r\\n1686,sot\\r\\n1687,ven\\r\\n1688,nso\\r\\n1689,afr\\r\\n1690,ssw\\r\\n1691,afr\\r\\n1692,zul\\r\\n1693,tso\\r\\n1694,sot\\r\\n1695,sot\\r\\n1696,afr\\r\\n1697,nbl\\r\\n1698,nbl\\r\\n1699,tso\\r\\n1700,tsn\\r\\n1701,xho\\r\\n1702,ven\\r\\n1703,xho\\r\\n1704,tsn\\r\\n1705,nso\\r\\n1706,zul\\r\\n1707,sot\\r\\n1708,zul\\r\\n1709,sot\\r\\n1710,afr\\r\\n1711,ssw\\r\\n1712,afr\\r\\n1713,tsn\\r\\n1714,ssw\\r\\n1715,ven\\r\\n1716,afr\\r\\n1717,tsn\\r\\n1718,nbl\\r\\n1719,zul\\r\\n1720,nso\\r\\n1721,xho\\r\\n1722,ven\\r\\n1723,tsn\\r\\n1724,ven\\r\\n1725,sot\\r\\n1726,ven\\r\\n1727,nso\\r\\n1728,zul\\r\\n1729,ven\\r\\n1730,nbl\\r\\n1731,ven\\r\\n1732,afr\\r\\n1733,eng\\r\\n1734,sot\\r\\n1735,tsn\\r\\n1736,sot\\r\\n1737,ven\\r\\n1738,xho\\r\\n1739,ven\\r\\n1740,ven\\r\\n1741,xho\\r\\n1742,xho\\r\\n1743,ven\\r\\n1744,tsn\\r\\n1745,sot\\r\\n1746,tsn\\r\\n1747,sot\\r\\n1748,ssw\\r\\n1749,nso\\r\\n1750,nso\\r\\n1751,sot\\r\\n1752,zul\\r\\n1753,tso\\r\\n1754,afr\\r\\n1755,ven\\r\\n1756,ven\\r\\n1757,ven\\r\\n1758,tso\\r\\n1759,afr\\r\\n1760,nso\\r\\n1761,tsn\\r\\n1762,ssw\\r\\n1763,xho\\r\\n1764,nso\\r\\n1765,ssw\\r\\n1766,afr\\r\\n1767,afr\\r\\n1768,nbl\\r\\n1769,sot\\r\\n1770,zul\\r\\n1771,sot\\r\\n1772,sot\\r\\n1773,ven\\r\\n1774,nbl\\r\\n1775,ssw\\r\\n1776,tso\\r\\n1777,ven\\r\\n1778,tso\\r\\n1779,sot\\r\\n1780,zul\\r\\n1781,tso\\r\\n1782,ven\\r\\n1783,nso\\r\\n1784,nso\\r\\n1785,tso\\r\\n1786,eng\\r\\n1787,nbl\\r\\n1788,xho\\r\\n1789,tsn\\r\\n1790,xho\\r\\n1791,afr\\r\\n1792,tsn\\r\\n1793,tsn\\r\\n1794,sot\\r\\n1795,ssw\\r\\n1796,zul\\r\\n1797,tsn\\r\\n1798,xho\\r\\n1799,zul\\r\\n1800,eng\\r\\n1801,zul\\r\\n1802,tso\\r\\n1803,nso\\r\\n1804,sot\\r\\n1805,sot\\r\\n1806,nbl\\r\\n1807,ven\\r\\n1808,tsn\\r\\n1809,nbl\\r\\n1810,ven\\r\\n1811,ven\\r\\n1812,ssw\\r\\n1813,ssw\\r\\n1814,ven\\r\\n1815,sot\\r\\n1816,tso\\r\\n1817,xho\\r\\n1818,nso\\r\\n1819,zul\\r\\n1820,xho\\r\\n1821,afr\\r\\n1822,nbl\\r\\n1823,afr\\r\\n1824,tsn\\r\\n1825,afr\\r\\n1826,afr\\r\\n1827,tsn\\r\\n1828,xho\\r\\n1829,ssw\\r\\n1830,afr\\r\\n1831,tso\\r\\n1832,tso\\r\\n1833,sot\\r\\n1834,tsn\\r\\n1835,zul\\r\\n1836,ssw\\r\\n1837,ven\\r\\n1838,tsn\\r\\n1839,afr\\r\\n1840,tso\\r\\n1841,xho\\r\\n1842,nso\\r\\n1843,nbl\\r\\n1844,afr\\r\\n1845,xho\\r\\n1846,nbl\\r\\n1847,ven\\r\\n1848,nso\\r\\n1849,nso\\r\\n1850,ssw\\r\\n1851,nso\\r\\n1852,nso\\r\\n1853,afr\\r\\n1854,nso\\r\\n1855,sot\\r\\n1856,afr\\r\\n1857,nso\\r\\n1858,zul\\r\\n1859,nso\\r\\n1860,sot\\r\\n1861,nbl\\r\\n1862,nbl\\r\\n1863,ssw\\r\\n1864,ssw\\r\\n1865,eng\\r\\n1866,ven\\r\\n1867,nbl\\r\\n1868,xho\\r\\n1869,zul\\r\\n1870,tsn\\r\\n1871,zul\\r\\n1872,sot\\r\\n1873,nbl\\r\\n1874,ven\\r\\n1875,tso\\r\\n1876,tsn\\r\\n1877,ven\\r\\n1878,afr\\r\\n1879,xho\\r\\n1880,tso\\r\\n1881,sot\\r\\n1882,ven\\r\\n1883,nso\\r\\n1884,ven\\r\\n1885,ven\\r\\n1886,sot\\r\\n1887,sot\\r\\n1888,nso\\r\\n1889,sot\\r\\n1890,ven\\r\\n1891,nso\\r\\n1892,eng\\r\\n1893,nbl\\r\\n1894,nbl\\r\\n1895,afr\\r\\n1896,ven\\r\\n1897,sot\\r\\n1898,ven\\r\\n1899,nso\\r\\n1900,sot\\r\\n1901,xho\\r\\n1902,ven\\r\\n1903,tsn\\r\\n1904,nso\\r\\n1905,tsn\\r\\n1906,tsn\\r\\n1907,tsn\\r\\n1908,ven\\r\\n1909,nso\\r\\n1910,nso\\r\\n1911,nso\\r\\n1912,ven\\r\\n1913,afr\\r\\n1914,afr\\r\\n1915,afr\\r\\n1916,xho\\r\\n1917,ssw\\r\\n1918,nbl\\r\\n1919,tso\\r\\n1920,tsn\\r\\n1921,nso\\r\\n1922,nso\\r\\n1923,sot\\r\\n1924,zul\\r\\n1925,xho\\r\\n1926,sot\\r\\n1927,ven\\r\\n1928,afr\\r\\n1929,ven\\r\\n1930,sot\\r\\n1931,tsn\\r\\n1932,sot\\r\\n1933,ven\\r\\n1934,xho\\r\\n1935,zul\\r\\n1936,tsn\\r\\n1937,xho\\r\\n1938,nso\\r\\n1939,afr\\r\\n1940,afr\\r\\n1941,xho\\r\\n1942,tsn\\r\\n1943,nbl\\r\\n1944,zul\\r\\n1945,zul\\r\\n1946,ven\\r\\n1947,nso\\r\\n1948,zul\\r\\n1949,xho\\r\\n1950,nso\\r\\n1951,afr\\r\\n1952,nso\\r\\n1953,nso\\r\\n1954,tsn\\r\\n1955,nbl\\r\\n1956,ssw\\r\\n1957,nbl\\r\\n1958,ven\\r\\n1959,tsn\\r\\n1960,afr\\r\\n1961,ven\\r\\n1962,afr\\r\\n1963,tso\\r\\n1964,ssw\\r\\n1965,ssw\\r\\n1966,ssw\\r\\n1967,ssw\\r\\n1968,nso\\r\\n1969,tsn\\r\\n1970,afr\\r\\n1971,xho\\r\\n1972,sot\\r\\n1973,ssw\\r\\n1974,zul\\r\\n1975,sot\\r\\n1976,nso\\r\\n1977,xho\\r\\n1978,afr\\r\\n1979,nso\\r\\n1980,sot\\r\\n1981,nso\\r\\n1982,tsn\\r\\n1983,nso\\r\\n1984,tsn\\r\\n1985,ssw\\r\\n1986,tso\\r\\n1987,nso\\r\\n1988,xho\\r\\n1989,sot\\r\\n1990,tso\\r\\n1991,ssw\\r\\n1992,tso\\r\\n1993,tso\\r\\n1994,nso\\r\\n1995,ven\\r\\n1996,ven\\r\\n1997,zul\\r\\n1998,eng\\r\\n1999,xho\\r\\n2000,xho\\r\\n2001,ven\\r\\n2002,ven\\r\\n2003,nso\\r\\n2004,xho\\r\\n2005,ven\\r\\n2006,afr\\r\\n2007,tso\\r\\n2008,xho\\r\\n2009,sot\\r\\n2010,tsn\\r\\n2011,ssw\\r\\n2012,zul\\r\\n2013,ven\\r\\n2014,afr\\r\\n2015,zul\\r\\n2016,nso\\r\\n2017,xho\\r\\n2018,afr\\r\\n2019,tsn\\r\\n2020,zul\\r\\n2021,sot\\r\\n2022,tsn\\r\\n2023,tso\\r\\n2024,nbl\\r\\n2025,afr\\r\\n2026,xho\\r\\n2027,nso\\r\\n2028,nso\\r\\n2029,xho\\r\\n2030,tso\\r\\n2031,nso\\r\\n2032,xho\\r\\n2033,ven\\r\\n2034,ven\\r\\n2035,tsn\\r\\n2036,tso\\r\\n2037,sot\\r\\n2038,tso\\r\\n2039,xho\\r\\n2040,sot\\r\\n2041,afr\\r\\n2042,nso\\r\\n2043,nso\\r\\n2044,zul\\r\\n2045,nso\\r\\n2046,nso\\r\\n2047,sot\\r\\n2048,nso\\r\\n2049,afr\\r\\n2050,afr\\r\\n2051,ssw\\r\\n2052,eng\\r\\n2053,tsn\\r\\n2054,tsn\\r\\n2055,nso\\r\\n2056,afr\\r\\n2057,eng\\r\\n2058,nso\\r\\n2059,tso\\r\\n2060,afr\\r\\n2061,tso\\r\\n2062,xho\\r\\n2063,tso\\r\\n2064,zul\\r\\n2065,eng\\r\\n2066,afr\\r\\n2067,ven\\r\\n2068,tsn\\r\\n2069,xho\\r\\n2070,xho\\r\\n2071,nso\\r\\n2072,nso\\r\\n2073,sot\\r\\n2074,nso\\r\\n2075,ven\\r\\n2076,eng\\r\\n2077,afr\\r\\n2078,ven\\r\\n2079,zul\\r\\n2080,sot\\r\\n2081,afr\\r\\n2082,sot\\r\\n2083,afr\\r\\n2084,eng\\r\\n2085,xho\\r\\n2086,nbl\\r\\n2087,sot\\r\\n2088,tsn\\r\\n2089,sot\\r\\n2090,ssw\\r\\n2091,nbl\\r\\n2092,sot\\r\\n2093,ven\\r\\n2094,nbl\\r\\n2095,xho\\r\\n2096,tsn\\r\\n2097,xho\\r\\n2098,ven\\r\\n2099,tso\\r\\n2100,sot\\r\\n2101,nso\\r\\n2102,xho\\r\\n2103,eng\\r\\n2104,tso\\r\\n2105,afr\\r\\n2106,xho\\r\\n2107,nbl\\r\\n2108,ven\\r\\n2109,tso\\r\\n2110,xho\\r\\n2111,zul\\r\\n2112,afr\\r\\n2113,afr\\r\\n2114,tsn\\r\\n2115,nso\\r\\n2116,nbl\\r\\n2117,nso\\r\\n2118,tsn\\r\\n2119,tsn\\r\\n2120,xho\\r\\n2121,sot\\r\\n2122,tso\\r\\n2123,ven\\r\\n2124,ssw\\r\\n2125,sot\\r\\n2126,afr\\r\\n2127,afr\\r\\n2128,tso\\r\\n2129,nbl\\r\\n2130,tso\\r\\n2131,sot\\r\\n2132,nso\\r\\n2133,nso\\r\\n2134,nso\\r\\n2135,sot\\r\\n2136,tso\\r\\n2137,afr\\r\\n2138,eng\\r\\n2139,sot\\r\\n2140,afr\\r\\n2141,nso\\r\\n2142,sot\\r\\n2143,ssw\\r\\n2144,tso\\r\\n2145,ven\\r\\n2146,afr\\r\\n2147,sot\\r\\n2148,tso\\r\\n2149,zul\\r\\n2150,afr\\r\\n2151,xho\\r\\n2152,tso\\r\\n2153,ven\\r\\n2154,nso\\r\\n2155,zul\\r\\n2156,zul\\r\\n2157,xho\\r\\n2158,sot\\r\\n2159,nso\\r\\n2160,zul\\r\\n2161,afr\\r\\n2162,nso\\r\\n2163,xho\\r\\n2164,xho\\r\\n2165,xho\\r\\n2166,ven\\r\\n2167,xho\\r\\n2168,tso\\r\\n2169,nbl\\r\\n2170,nso\\r\\n2171,ssw\\r\\n2172,tso\\r\\n2173,tsn\\r\\n2174,nso\\r\\n2175,ven\\r\\n2176,afr\\r\\n2177,ven\\r\\n2178,ven\\r\\n2179,nso\\r\\n2180,tso\\r\\n2181,xho\\r\\n2182,tso\\r\\n2183,tso\\r\\n2184,xho\\r\\n2185,sot\\r\\n2186,nso\\r\\n2187,tsn\\r\\n2188,sot\\r\\n2189,nbl\\r\\n2190,ssw\\r\\n2191,ssw\\r\\n2192,afr\\r\\n2193,sot\\r\\n2194,tso\\r\\n2195,ven\\r\\n2196,nso\\r\\n2197,tso\\r\\n2198,tso\\r\\n2199,afr\\r\\n2200,xho\\r\\n2201,xho\\r\\n2202,afr\\r\\n2203,tsn\\r\\n2204,sot\\r\\n2205,tsn\\r\\n2206,nso\\r\\n2207,xho\\r\\n2208,xho\\r\\n2209,tsn\\r\\n2210,ssw\\r\\n2211,afr\\r\\n2212,ssw\\r\\n2213,ven\\r\\n2214,tsn\\r\\n2215,nso\\r\\n2216,nso\\r\\n2217,tso\\r\\n2218,afr\\r\\n2219,nso\\r\\n2220,xho\\r\\n2221,nso\\r\\n2222,xho\\r\\n2223,nso\\r\\n2224,nbl\\r\\n2225,ssw\\r\\n2226,sot\\r\\n2227,zul\\r\\n2228,tsn\\r\\n2229,nbl\\r\\n2230,afr\\r\\n2231,tsn\\r\\n2232,ssw\\r\\n2233,eng\\r\\n2234,eng\\r\\n2235,zul\\r\\n2236,afr\\r\\n2237,zul\\r\\n2238,zul\\r\\n2239,tsn\\r\\n2240,ssw\\r\\n2241,eng\\r\\n2242,ven\\r\\n2243,afr\\r\\n2244,zul\\r\\n2245,xho\\r\\n2246,ssw\\r\\n2247,xho\\r\\n2248,xho\\r\\n2249,xho\\r\\n2250,xho\\r\\n2251,tsn\\r\\n2252,zul\\r\\n2253,nso\\r\\n2254,eng\\r\\n2255,tsn\\r\\n2256,nbl\\r\\n2257,sot\\r\\n2258,sot\\r\\n2259,tsn\\r\\n2260,ssw\\r\\n2261,ven\\r\\n2262,ven\\r\\n2263,nso\\r\\n2264,tsn\\r\\n2265,afr\\r\\n2266,tso\\r\\n2267,sot\\r\\n2268,afr\\r\\n2269,ven\\r\\n2270,sot\\r\\n2271,sot\\r\\n2272,sot\\r\\n2273,nso\\r\\n2274,xho\\r\\n2275,nso\\r\\n2276,tsn\\r\\n2277,sot\\r\\n2278,afr\\r\\n2279,ssw\\r\\n2280,zul\\r\\n2281,ven\\r\\n2282,tso\\r\\n2283,eng\\r\\n2284,nbl\\r\\n2285,afr\\r\\n2286,zul\\r\\n2287,nso\\r\\n2288,eng\\r\\n2289,nso\\r\\n2290,tso\\r\\n2291,tso\\r\\n2292,afr\\r\\n2293,xho\\r\\n2294,nso\\r\\n2295,ssw\\r\\n2296,xho\\r\\n2297,afr\\r\\n2298,sot\\r\\n2299,sot\\r\\n2300,ven\\r\\n2301,sot\\r\\n2302,afr\\r\\n2303,xho\\r\\n2304,tsn\\r\\n2305,afr\\r\\n2306,afr\\r\\n2307,tsn\\r\\n2308,afr\\r\\n2309,nso\\r\\n2310,zul\\r\\n2311,zul\\r\\n2312,sot\\r\\n2313,ven\\r\\n2314,nso\\r\\n2315,nso\\r\\n2316,afr\\r\\n2317,xho\\r\\n2318,xho\\r\\n2319,sot\\r\\n2320,afr\\r\\n2321,sot\\r\\n2322,sot\\r\\n2323,xho\\r\\n2324,tso\\r\\n2325,ven\\r\\n2326,afr\\r\\n2327,nso\\r\\n2328,ssw\\r\\n2329,ven\\r\\n2330,zul\\r\\n2331,nso\\r\\n2332,tsn\\r\\n2333,nso\\r\\n2334,nso\\r\\n2335,afr\\r\\n2336,ven\\r\\n2337,xho\\r\\n2338,tsn\\r\\n2339,nso\\r\\n2340,tsn\\r\\n2341,ssw\\r\\n2342,tsn\\r\\n2343,ssw\\r\\n2344,xho\\r\\n2345,nso\\r\\n2346,sot\\r\\n2347,ven\\r\\n2348,ssw\\r\\n2349,nbl\\r\\n2350,xho\\r\\n2351,nbl\\r\\n2352,sot\\r\\n2353,afr\\r\\n2354,zul\\r\\n2355,ssw\\r\\n2356,nso\\r\\n2357,xho\\r\\n2358,ven\\r\\n2359,nso\\r\\n2360,nso\\r\\n2361,xho\\r\\n2362,nbl\\r\\n2363,nso\\r\\n2364,xho\\r\\n2365,ssw\\r\\n2366,zul\\r\\n2367,nso\\r\\n2368,sot\\r\\n2369,afr\\r\\n2370,zul\\r\\n2371,nso\\r\\n2372,afr\\r\\n2373,xho\\r\\n2374,zul\\r\\n2375,ssw\\r\\n2376,nbl\\r\\n2377,afr\\r\\n2378,tso\\r\\n2379,afr\\r\\n2380,tso\\r\\n2381,ven\\r\\n2382,zul\\r\\n2383,eng\\r\\n2384,afr\\r\\n2385,nso\\r\\n2386,nso\\r\\n2387,ven\\r\\n2388,sot\\r\\n2389,tsn\\r\\n2390,afr\\r\\n2391,zul\\r\\n2392,xho\\r\\n2393,xho\\r\\n2394,ssw\\r\\n2395,eng\\r\\n2396,sot\\r\\n2397,nso\\r\\n2398,afr\\r\\n2399,ven\\r\\n2400,sot\\r\\n2401,xho\\r\\n2402,tsn\\r\\n2403,ven\\r\\n2404,afr\\r\\n2405,afr\\r\\n2406,ssw\\r\\n2407,afr\\r\\n2408,afr\\r\\n2409,tsn\\r\\n2410,ssw\\r\\n2411,afr\\r\\n2412,afr\\r\\n2413,sot\\r\\n2414,nso\\r\\n2415,nso\\r\\n2416,tsn\\r\\n2417,ven\\r\\n2418,ssw\\r\\n2419,ven\\r\\n2420,sot\\r\\n2421,ven\\r\\n2422,nso\\r\\n2423,tso\\r\\n2424,tsn\\r\\n2425,afr\\r\\n2426,ven\\r\\n2427,afr\\r\\n2428,sot\\r\\n2429,tsn\\r\\n2430,nso\\r\\n2431,tso\\r\\n2432,xho\\r\\n2433,ssw\\r\\n2434,ssw\\r\\n2435,nso\\r\\n2436,xho\\r\\n2437,xho\\r\\n2438,nbl\\r\\n2439,ven\\r\\n2440,xho\\r\\n2441,xho\\r\\n2442,zul\\r\\n2443,xho\\r\\n2444,nso\\r\\n2445,nbl\\r\\n2446,afr\\r\\n2447,nso\\r\\n2448,nso\\r\\n2449,nbl\\r\\n2450,afr\\r\\n2451,nso\\r\\n2452,afr\\r\\n2453,nbl\\r\\n2454,eng\\r\\n2455,ven\\r\\n2456,sot\\r\\n2457,xho\\r\\n2458,nbl\\r\\n2459,sot\\r\\n2460,afr\\r\\n2461,afr\\r\\n2462,nso\\r\\n2463,nso\\r\\n2464,xho\\r\\n2465,zul\\r\\n2466,nbl\\r\\n2467,ven\\r\\n2468,afr\\r\\n2469,tso\\r\\n2470,xho\\r\\n2471,afr\\r\\n2472,nbl\\r\\n2473,ven\\r\\n2474,ssw\\r\\n2475,nbl\\r\\n2476,xho\\r\\n2477,xho\\r\\n2478,nso\\r\\n2479,ven\\r\\n2480,nbl\\r\\n2481,afr\\r\\n2482,nbl\\r\\n2483,sot\\r\\n2484,tso\\r\\n2485,nbl\\r\\n2486,ven\\r\\n2487,xho\\r\\n2488,xho\\r\\n2489,nbl\\r\\n2490,ven\\r\\n2491,nbl\\r\\n2492,afr\\r\\n2493,sot\\r\\n2494,tsn\\r\\n2495,nso\\r\\n2496,sot\\r\\n2497,ssw\\r\\n2498,afr\\r\\n2499,ven\\r\\n2500,xho\\r\\n2501,tsn\\r\\n2502,sot\\r\\n2503,afr\\r\\n2504,tsn\\r\\n2505,nbl\\r\\n2506,sot\\r\\n2507,ssw\\r\\n2508,afr\\r\\n2509,xho\\r\\n2510,afr\\r\\n2511,eng\\r\\n2512,tso\\r\\n2513,nso\\r\\n2514,xho\\r\\n2515,tsn\\r\\n2516,nso\\r\\n2517,ven\\r\\n2518,nso\\r\\n2519,ssw\\r\\n2520,tsn\\r\\n2521,sot\\r\\n2522,afr\\r\\n2523,ven\\r\\n2524,sot\\r\\n2525,ven\\r\\n2526,sot\\r\\n2527,nso\\r\\n2528,tso\\r\\n2529,zul\\r\\n2530,xho\\r\\n2531,eng\\r\\n2532,afr\\r\\n2533,sot\\r\\n2534,zul\\r\\n2535,zul\\r\\n2536,tso\\r\\n2537,nso\\r\\n2538,afr\\r\\n2539,tso\\r\\n2540,xho\\r\\n2541,afr\\r\\n2542,tsn\\r\\n2543,nso\\r\\n2544,eng\\r\\n2545,ven\\r\\n2546,sot\\r\\n2547,tso\\r\\n2548,ven\\r\\n2549,afr\\r\\n2550,xho\\r\\n2551,nso\\r\\n2552,nso\\r\\n2553,sot\\r\\n2554,tso\\r\\n2555,xho\\r\\n2556,sot\\r\\n2557,tsn\\r\\n2558,nbl\\r\\n2559,ven\\r\\n2560,ven\\r\\n2561,tso\\r\\n2562,afr\\r\\n2563,sot\\r\\n2564,afr\\r\\n2565,xho\\r\\n2566,nso\\r\\n2567,afr\\r\\n2568,nso\\r\\n2569,nso\\r\\n2570,ven\\r\\n2571,nso\\r\\n2572,ven\\r\\n2573,ven\\r\\n2574,ssw\\r\\n2575,ssw\\r\\n2576,tsn\\r\\n2577,xho\\r\\n2578,eng\\r\\n2579,sot\\r\\n2580,nso\\r\\n2581,ven\\r\\n2582,nso\\r\\n2583,eng\\r\\n2584,zul\\r\\n2585,tso\\r\\n2586,nso\\r\\n2587,sot\\r\\n2588,zul\\r\\n2589,tso\\r\\n2590,afr\\r\\n2591,ven\\r\\n2592,tsn\\r\\n2593,tsn\\r\\n2594,nbl\\r\\n2595,tso\\r\\n2596,xho\\r\\n2597,afr\\r\\n2598,ven\\r\\n2599,tsn\\r\\n2600,ven\\r\\n2601,nso\\r\\n2602,eng\\r\\n2603,ven\\r\\n2604,afr\\r\\n2605,afr\\r\\n2606,eng\\r\\n2607,tsn\\r\\n2608,ven\\r\\n2609,tso\\r\\n2610,zul\\r\\n2611,tsn\\r\\n2612,eng\\r\\n2613,afr\\r\\n2614,sot\\r\\n2615,sot\\r\\n2616,nbl\\r\\n2617,xho\\r\\n2618,afr\\r\\n2619,xho\\r\\n2620,ven\\r\\n2621,tsn\\r\\n2622,afr\\r\\n2623,zul\\r\\n2624,tso\\r\\n2625,nso\\r\\n2626,tso\\r\\n2627,ven\\r\\n2628,eng\\r\\n2629,afr\\r\\n2630,tsn\\r\\n2631,xho\\r\\n2632,xho\\r\\n2633,zul\\r\\n2634,sot\\r\\n2635,afr\\r\\n2636,nbl\\r\\n2637,ssw\\r\\n2638,nbl\\r\\n2639,sot\\r\\n2640,eng\\r\\n2641,afr\\r\\n2642,afr\\r\\n2643,sot\\r\\n2644,afr\\r\\n2645,nso\\r\\n2646,sot\\r\\n2647,sot\\r\\n2648,nso\\r\\n2649,nso\\r\\n2650,ven\\r\\n2651,eng\\r\\n2652,eng\\r\\n2653,eng\\r\\n2654,zul\\r\\n2655,xho\\r\\n2656,xho\\r\\n2657,ssw\\r\\n2658,ssw\\r\\n2659,eng\\r\\n2660,ssw\\r\\n2661,zul\\r\\n2662,ven\\r\\n2663,ssw\\r\\n2664,ven\\r\\n2665,xho\\r\\n2666,nso\\r\\n2667,sot\\r\\n2668,nbl\\r\\n2669,ven\\r\\n2670,nso\\r\\n2671,ven\\r\\n2672,ven\\r\\n2673,nbl\\r\\n2674,nso\\r\\n2675,ven\\r\\n2676,tsn\\r\\n2677,tso\\r\\n2678,ssw\\r\\n2679,zul\\r\\n2680,eng\\r\\n2681,afr\\r\\n2682,xho\\r\\n2683,sot\\r\\n2684,ssw\\r\\n2685,ven\\r\\n2686,zul\\r\\n2687,zul\\r\\n2688,sot\\r\\n2689,zul\\r\\n2690,nso\\r\\n2691,tso\\r\\n2692,ssw\\r\\n2693,xho\\r\\n2694,ven\\r\\n2695,ven\\r\\n2696,afr\\r\\n2697,xho\\r\\n2698,ven\\r\\n2699,sot\\r\\n2700,ven\\r\\n2701,xho\\r\\n2702,afr\\r\\n2703,ven\\r\\n2704,ven\\r\\n2705,tso\\r\\n2706,nso\\r\\n2707,sot\\r\\n2708,sot\\r\\n2709,xho\\r\\n2710,afr\\r\\n2711,nbl\\r\\n2712,xho\\r\\n2713,zul\\r\\n2714,nso\\r\\n2715,ssw\\r\\n2716,ssw\\r\\n2717,sot\\r\\n2718,sot\\r\\n2719,xho\\r\\n2720,afr\\r\\n2721,sot\\r\\n2722,tso\\r\\n2723,tsn\\r\\n2724,ven\\r\\n2725,tsn\\r\\n2726,afr\\r\\n2727,afr\\r\\n2728,tso\\r\\n2729,nbl\\r\\n2730,nbl\\r\\n2731,nso\\r\\n2732,sot\\r\\n2733,xho\\r\\n2734,ven\\r\\n2735,afr\\r\\n2736,tsn\\r\\n2737,sot\\r\\n2738,zul\\r\\n2739,sot\\r\\n2740,tsn\\r\\n2741,ven\\r\\n2742,afr\\r\\n2743,nso\\r\\n2744,ssw\\r\\n2745,tsn\\r\\n2746,xho\\r\\n2747,afr\\r\\n2748,tsn\\r\\n2749,tsn\\r\\n2750,nso\\r\\n2751,afr\\r\\n2752,nso\\r\\n2753,xho\\r\\n2754,ven\\r\\n2755,ven\\r\\n2756,nso\\r\\n2757,ven\\r\\n2758,nso\\r\\n2759,afr\\r\\n2760,tsn\\r\\n2761,afr\\r\\n2762,tsn\\r\\n2763,zul\\r\\n2764,afr\\r\\n2765,tsn\\r\\n2766,nso\\r\\n2767,sot\\r\\n2768,sot\\r\\n2769,sot\\r\\n2770,tso\\r\\n2771,eng\\r\\n2772,xho\\r\\n2773,afr\\r\\n2774,tsn\\r\\n2775,afr\\r\\n2776,tso\\r\\n2777,xho\\r\\n2778,afr\\r\\n2779,afr\\r\\n2780,nso\\r\\n2781,ssw\\r\\n2782,afr\\r\\n2783,tsn\\r\\n2784,xho\\r\\n2785,afr\\r\\n2786,ven\\r\\n2787,eng\\r\\n2788,nbl\\r\\n2789,ven\\r\\n2790,ven\\r\\n2791,nso\\r\\n2792,afr\\r\\n2793,ven\\r\\n2794,ven\\r\\n2795,tso\\r\\n2796,nso\\r\\n2797,sot\\r\\n2798,nso\\r\\n2799,ven\\r\\n2800,nso\\r\\n2801,ven\\r\\n2802,ssw\\r\\n2803,afr\\r\\n2804,xho\\r\\n2805,tsn\\r\\n2806,sot\\r\\n2807,xho\\r\\n2808,ssw\\r\\n2809,afr\\r\\n2810,sot\\r\\n2811,sot\\r\\n2812,eng\\r\\n2813,tsn\\r\\n2814,afr\\r\\n2815,xho\\r\\n2816,tsn\\r\\n2817,eng\\r\\n2818,ssw\\r\\n2819,tsn\\r\\n2820,afr\\r\\n2821,afr\\r\\n2822,tsn\\r\\n2823,afr\\r\\n2824,tso\\r\\n2825,nso\\r\\n2826,sot\\r\\n2827,nso\\r\\n2828,afr\\r\\n2829,tso\\r\\n2830,sot\\r\\n2831,xho\\r\\n2832,nso\\r\\n2833,xho\\r\\n2834,nso\\r\\n2835,zul\\r\\n2836,afr\\r\\n2837,eng\\r\\n2838,tso\\r\\n2839,nso\\r\\n2840,xho\\r\\n2841,nso\\r\\n2842,ssw\\r\\n2843,tsn\\r\\n2844,zul\\r\\n2845,tsn\\r\\n2846,afr\\r\\n2847,nbl\\r\\n2848,afr\\r\\n2849,tsn\\r\\n2850,ssw\\r\\n2851,ssw\\r\\n2852,ven\\r\\n2853,zul\\r\\n2854,ven\\r\\n2855,eng\\r\\n2856,tsn\\r\\n2857,tso\\r\\n2858,afr\\r\\n2859,tsn\\r\\n2860,xho\\r\\n2861,nso\\r\\n2862,sot\\r\\n2863,xho\\r\\n2864,zul\\r\\n2865,xho\\r\\n2866,afr\\r\\n2867,ssw\\r\\n2868,tsn\\r\\n2869,afr\\r\\n2870,afr\\r\\n2871,afr\\r\\n2872,ven\\r\\n2873,tsn\\r\\n2874,ven\\r\\n2875,nso\\r\\n2876,ven\\r\\n2877,afr\\r\\n2878,nso\\r\\n2879,xho\\r\\n2880,tsn\\r\\n2881,ven\\r\\n2882,xho\\r\\n2883,tso\\r\\n2884,sot\\r\\n2885,sot\\r\\n2886,xho\\r\\n2887,nso\\r\\n2888,xho\\r\\n2889,xho\\r\\n2890,tso\\r\\n2891,nso\\r\\n2892,nso\\r\\n2893,ssw\\r\\n2894,ssw\\r\\n2895,tso\\r\\n2896,zul\\r\\n2897,nbl\\r\\n2898,sot\\r\\n2899,afr\\r\\n2900,tsn\\r\\n2901,nso\\r\\n2902,sot\\r\\n2903,tso\\r\\n2904,xho\\r\\n2905,sot\\r\\n2906,nso\\r\\n2907,ssw\\r\\n2908,xho\\r\\n2909,afr\\r\\n2910,tsn\\r\\n2911,nso\\r\\n2912,nso\\r\\n2913,afr\\r\\n2914,afr\\r\\n2915,ven\\r\\n2916,ven\\r\\n2917,ssw\\r\\n2918,ven\\r\\n2919,afr\\r\\n2920,tsn\\r\\n2921,sot\\r\\n2922,sot\\r\\n2923,sot\\r\\n2924,sot\\r\\n2925,xho\\r\\n2926,afr\\r\\n2927,xho\\r\\n2928,ssw\\r\\n2929,tso\\r\\n2930,nso\\r\\n2931,xho\\r\\n2932,afr\\r\\n2933,xho\\r\\n2934,nbl\\r\\n2935,nso\\r\\n2936,nso\\r\\n2937,sot\\r\\n2938,tso\\r\\n2939,nso\\r\\n2940,afr\\r\\n2941,nso\\r\\n2942,xho\\r\\n2943,afr\\r\\n2944,ven\\r\\n2945,sot\\r\\n2946,sot\\r\\n2947,afr\\r\\n2948,nbl\\r\\n2949,tso\\r\\n2950,tso\\r\\n2951,afr\\r\\n2952,sot\\r\\n2953,afr\\r\\n2954,tsn\\r\\n2955,eng\\r\\n2956,nso\\r\\n2957,zul\\r\\n2958,nso\\r\\n2959,ven\\r\\n2960,tsn\\r\\n2961,eng\\r\\n2962,afr\\r\\n2963,ssw\\r\\n2964,eng\\r\\n2965,xho\\r\\n2966,ven\\r\\n2967,nso\\r\\n2968,xho\\r\\n2969,afr\\r\\n2970,tso\\r\\n2971,afr\\r\\n2972,afr\\r\\n2973,xho\\r\\n2974,tso\\r\\n2975,nso\\r\\n2976,ssw\\r\\n2977,tso\\r\\n2978,tsn\\r\\n2979,xho\\r\\n2980,nso\\r\\n2981,nso\\r\\n2982,sot\\r\\n2983,xho\\r\\n2984,tso\\r\\n2985,ssw\\r\\n2986,ssw\\r\\n2987,afr\\r\\n2988,tso\\r\\n2989,xho\\r\\n2990,ven\\r\\n2991,ven\\r\\n2992,ssw\\r\\n2993,afr\\r\\n2994,ven\\r\\n2995,tsn\\r\\n2996,sot\\r\\n2997,afr\\r\\n2998,zul\\r\\n2999,tsn\\r\\n3000,ven\\r\\n3001,tso\\r\\n3002,tsn\\r\\n3003,ssw\\r\\n3004,afr\\r\\n3005,afr\\r\\n3006,afr\\r\\n3007,nso\\r\\n3008,xho\\r\\n3009,sot\\r\\n3010,sot\\r\\n3011,ven\\r\\n3012,zul\\r\\n3013,sot\\r\\n3014,afr\\r\\n3015,afr\\r\\n3016,ven\\r\\n3017,zul\\r\\n3018,zul\\r\\n3019,nbl\\r\\n3020,sot\\r\\n3021,eng\\r\\n3022,sot\\r\\n3023,nso\\r\\n3024,nso\\r\\n3025,xho\\r\\n3026,afr\\r\\n3027,tsn\\r\\n3028,ssw\\r\\n3029,ven\\r\\n3030,tso\\r\\n3031,xho\\r\\n3032,ssw\\r\\n3033,tso\\r\\n3034,afr\\r\\n3035,tsn\\r\\n3036,sot\\r\\n3037,xho\\r\\n3038,zul\\r\\n3039,xho\\r\\n3040,eng\\r\\n3041,xho\\r\\n3042,nso\\r\\n3043,afr\\r\\n3044,ven\\r\\n3045,nbl\\r\\n3046,zul\\r\\n3047,ssw\\r\\n3048,afr\\r\\n3049,afr\\r\\n3050,nso\\r\\n3051,tsn\\r\\n3052,afr\\r\\n3053,ssw\\r\\n3054,ven\\r\\n3055,nso\\r\\n3056,tsn\\r\\n3057,nso\\r\\n3058,sot\\r\\n3059,afr\\r\\n3060,afr\\r\\n3061,ssw\\r\\n3062,tso\\r\\n3063,ven\\r\\n3064,zul\\r\\n3065,xho\\r\\n3066,nso\\r\\n3067,xho\\r\\n3068,nso\\r\\n3069,nso\\r\\n3070,nso\\r\\n3071,ssw\\r\\n3072,afr\\r\\n3073,afr\\r\\n3074,zul\\r\\n3075,afr\\r\\n3076,tsn\\r\\n3077,ven\\r\\n3078,ven\\r\\n3079,nso\\r\\n3080,eng\\r\\n3081,ven\\r\\n3082,afr\\r\\n3083,eng\\r\\n3084,tso\\r\\n3085,nso\\r\\n3086,ven\\r\\n3087,sot\\r\\n3088,ven\\r\\n3089,zul\\r\\n3090,eng\\r\\n3091,nbl\\r\\n3092,nso\\r\\n3093,sot\\r\\n3094,ssw\\r\\n3095,sot\\r\\n3096,ven\\r\\n3097,afr\\r\\n3098,xho\\r\\n3099,xho\\r\\n3100,nbl\\r\\n3101,nso\\r\\n3102,ssw\\r\\n3103,eng\\r\\n3104,sot\\r\\n3105,nso\\r\\n3106,tso\\r\\n3107,nso\\r\\n3108,tsn\\r\\n3109,xho\\r\\n3110,nso\\r\\n3111,afr\\r\\n3112,xho\\r\\n3113,ssw\\r\\n3114,eng\\r\\n3115,sot\\r\\n3116,xho\\r\\n3117,afr\\r\\n3118,tso\\r\\n3119,sot\\r\\n3120,zul\\r\\n3121,ven\\r\\n3122,nso\\r\\n3123,xho\\r\\n3124,sot\\r\\n3125,ven\\r\\n3126,tsn\\r\\n3127,sot\\r\\n3128,zul\\r\\n3129,sot\\r\\n3130,zul\\r\\n3131,afr\\r\\n3132,ven\\r\\n3133,zul\\r\\n3134,eng\\r\\n3135,xho\\r\\n3136,nso\\r\\n3137,sot\\r\\n3138,zul\\r\\n3139,ven\\r\\n3140,afr\\r\\n3141,nso\\r\\n3142,zul\\r\\n3143,afr\\r\\n3144,ssw\\r\\n3145,ven\\r\\n3146,nbl\\r\\n3147,tso\\r\\n3148,afr\\r\\n3149,ven\\r\\n3150,ssw\\r\\n3151,nso\\r\\n3152,nso\\r\\n3153,tsn\\r\\n3154,xho\\r\\n3155,ven\\r\\n3156,xho\\r\\n3157,afr\\r\\n3158,xho\\r\\n3159,ven\\r\\n3160,tso\\r\\n3161,eng\\r\\n3162,xho\\r\\n3163,tso\\r\\n3164,zul\\r\\n3165,nso\\r\\n3166,ven\\r\\n3167,ven\\r\\n3168,afr\\r\\n3169,tso\\r\\n3170,tso\\r\\n3171,eng\\r\\n3172,afr\\r\\n3173,sot\\r\\n3174,sot\\r\\n3175,sot\\r\\n3176,afr\\r\\n3177,ven\\r\\n3178,ven\\r\\n3179,xho\\r\\n3180,tso\\r\\n3181,nso\\r\\n3182,ssw\\r\\n3183,ssw\\r\\n3184,xho\\r\\n3185,xho\\r\\n3186,ven\\r\\n3187,eng\\r\\n3188,afr\\r\\n3189,afr\\r\\n3190,zul\\r\\n3191,tsn\\r\\n3192,tso\\r\\n3193,zul\\r\\n3194,nso\\r\\n3195,xho\\r\\n3196,nbl\\r\\n3197,xho\\r\\n3198,sot\\r\\n3199,xho\\r\\n3200,tsn\\r\\n3201,xho\\r\\n3202,sot\\r\\n3203,eng\\r\\n3204,afr\\r\\n3205,nso\\r\\n3206,afr\\r\\n3207,afr\\r\\n3208,tso\\r\\n3209,zul\\r\\n3210,nso\\r\\n3211,xho\\r\\n3212,xho\\r\\n3213,eng\\r\\n3214,eng\\r\\n3215,xho\\r\\n3216,ssw\\r\\n3217,tsn\\r\\n3218,nbl\\r\\n3219,ven\\r\\n3220,ven\\r\\n3221,xho\\r\\n3222,tso\\r\\n3223,ven\\r\\n3224,ssw\\r\\n3225,tso\\r\\n3226,ven\\r\\n3227,ssw\\r\\n3228,nso\\r\\n3229,ven\\r\\n3230,nso\\r\\n3231,afr\\r\\n3232,afr\\r\\n3233,nbl\\r\\n3234,nbl\\r\\n3235,nso\\r\\n3236,sot\\r\\n3237,xho\\r\\n3238,sot\\r\\n3239,xho\\r\\n3240,ssw\\r\\n3241,ven\\r\\n3242,ven\\r\\n3243,tso\\r\\n3244,tsn\\r\\n3245,zul\\r\\n3246,sot\\r\\n3247,zul\\r\\n3248,tso\\r\\n3249,ven\\r\\n3250,nbl\\r\\n3251,sot\\r\\n3252,tsn\\r\\n3253,nso\\r\\n3254,nso\\r\\n3255,xho\\r\\n3256,ven\\r\\n3257,tsn\\r\\n3258,tsn\\r\\n3259,tsn\\r\\n3260,sot\\r\\n3261,ven\\r\\n3262,nso\\r\\n3263,tso\\r\\n3264,tso\\r\\n3265,ven\\r\\n3266,zul\\r\\n3267,ssw\\r\\n3268,ven\\r\\n3269,xho\\r\\n3270,tso\\r\\n3271,nbl\\r\\n3272,ven\\r\\n3273,tso\\r\\n3274,afr\\r\\n3275,zul\\r\\n3276,nso\\r\\n3277,afr\\r\\n3278,xho\\r\\n3279,ven\\r\\n3280,tsn\\r\\n3281,zul\\r\\n3282,nso\\r\\n3283,tsn\\r\\n3284,tsn\\r\\n3285,zul\\r\\n3286,sot\\r\\n3287,nbl\\r\\n3288,zul\\r\\n3289,xho\\r\\n3290,tsn\\r\\n3291,zul\\r\\n3292,zul\\r\\n3293,nso\\r\\n3294,zul\\r\\n3295,afr\\r\\n3296,xho\\r\\n3297,xho\\r\\n3298,nbl\\r\\n3299,tsn\\r\\n3300,sot\\r\\n3301,afr\\r\\n3302,nso\\r\\n3303,nso\\r\\n3304,afr\\r\\n3305,tso\\r\\n3306,eng\\r\\n3307,tsn\\r\\n3308,sot\\r\\n3309,ven\\r\\n3310,xho\\r\\n3311,nso\\r\\n3312,nso\\r\\n3313,sot\\r\\n3314,nso\\r\\n3315,nbl\\r\\n3316,sot\\r\\n3317,nso\\r\\n3318,ssw\\r\\n3319,afr\\r\\n3320,nso\\r\\n3321,zul\\r\\n3322,eng\\r\\n3323,sot\\r\\n3324,ven\\r\\n3325,afr\\r\\n3326,sot\\r\\n3327,nso\\r\\n3328,nso\\r\\n3329,xho\\r\\n3330,afr\\r\\n3331,afr\\r\\n3332,tsn\\r\\n3333,zul\\r\\n3334,zul\\r\\n3335,nbl\\r\\n3336,xho\\r\\n3337,ven\\r\\n3338,xho\\r\\n3339,ven\\r\\n3340,nso\\r\\n3341,xho\\r\\n3342,tso\\r\\n3343,tsn\\r\\n3344,tso\\r\\n3345,ven\\r\\n3346,ven\\r\\n3347,tso\\r\\n3348,tso\\r\\n3349,nso\\r\\n3350,tso\\r\\n3351,ven\\r\\n3352,ven\\r\\n3353,zul\\r\\n3354,tso\\r\\n3355,tsn\\r\\n3356,sot\\r\\n3357,afr\\r\\n3358,tso\\r\\n3359,nso\\r\\n3360,sot\\r\\n3361,sot\\r\\n3362,zul\\r\\n3363,ven\\r\\n3364,nso\\r\\n3365,ven\\r\\n3366,tsn\\r\\n3367,ssw\\r\\n3368,ven\\r\\n3369,tso\\r\\n3370,zul\\r\\n3371,tsn\\r\\n3372,afr\\r\\n3373,ven\\r\\n3374,ven\\r\\n3375,tso\\r\\n3376,tso\\r\\n3377,xho\\r\\n3378,eng\\r\\n3379,afr\\r\\n3380,sot\\r\\n3381,xho\\r\\n3382,nso\\r\\n3383,nso\\r\\n3384,xho\\r\\n3385,nso\\r\\n3386,ssw\\r\\n3387,ssw\\r\\n3388,afr\\r\\n3389,tso\\r\\n3390,sot\\r\\n3391,zul\\r\\n3392,ssw\\r\\n3393,nso\\r\\n3394,ven\\r\\n3395,xho\\r\\n3396,ven\\r\\n3397,sot\\r\\n3398,zul\\r\\n3399,ssw\\r\\n3400,tsn\\r\\n3401,nbl\\r\\n3402,ven\\r\\n3403,ven\\r\\n3404,xho\\r\\n3405,tsn\\r\\n3406,nbl\\r\\n3407,tsn\\r\\n3408,nbl\\r\\n3409,nso\\r\\n3410,xho\\r\\n3411,ven\\r\\n3412,eng\\r\\n3413,eng\\r\\n3414,afr\\r\\n3415,afr\\r\\n3416,xho\\r\\n3417,nbl\\r\\n3418,tsn\\r\\n3419,nso\\r\\n3420,ven\\r\\n3421,nso\\r\\n3422,ssw\\r\\n3423,zul\\r\\n3424,ven\\r\\n3425,tsn\\r\\n3426,nso\\r\\n3427,nso\\r\\n3428,nso\\r\\n3429,nbl\\r\\n3430,afr\\r\\n3431,ssw\\r\\n3432,nbl\\r\\n3433,zul\\r\\n3434,ven\\r\\n3435,nso\\r\\n3436,nbl\\r\\n3437,xho\\r\\n3438,afr\\r\\n3439,xho\\r\\n3440,tso\\r\\n3441,ven\\r\\n3442,ven\\r\\n3443,ven\\r\\n3444,ven\\r\\n3445,tso\\r\\n3446,ven\\r\\n3447,afr\\r\\n3448,tsn\\r\\n3449,sot\\r\\n3450,nbl\\r\\n3451,ssw\\r\\n3452,xho\\r\\n3453,afr\\r\\n3454,xho\\r\\n3455,sot\\r\\n3456,ssw\\r\\n3457,tsn\\r\\n3458,xho\\r\\n3459,ssw\\r\\n3460,nbl\\r\\n3461,xho\\r\\n3462,ssw\\r\\n3463,eng\\r\\n3464,sot\\r\\n3465,zul\\r\\n3466,ven\\r\\n3467,afr\\r\\n3468,tso\\r\\n3469,ssw\\r\\n3470,sot\\r\\n3471,nbl\\r\\n3472,zul\\r\\n3473,afr\\r\\n3474,tso\\r\\n3475,xho\\r\\n3476,afr\\r\\n3477,afr\\r\\n3478,tsn\\r\\n3479,afr\\r\\n3480,tsn\\r\\n3481,nso\\r\\n3482,nbl\\r\\n3483,nso\\r\\n3484,xho\\r\\n3485,sot\\r\\n3486,xho\\r\\n3487,ven\\r\\n3488,nbl\\r\\n3489,eng\\r\\n3490,xho\\r\\n3491,ven\\r\\n3492,nso\\r\\n3493,afr\\r\\n3494,ssw\\r\\n3495,nso\\r\\n3496,xho\\r\\n3497,nso\\r\\n3498,sot\\r\\n3499,tsn\\r\\n3500,afr\\r\\n3501,xho\\r\\n3502,zul\\r\\n3503,ven\\r\\n3504,xho\\r\\n3505,ven\\r\\n3506,ven\\r\\n3507,ven\\r\\n3508,ven\\r\\n3509,sot\\r\\n3510,ven\\r\\n3511,sot\\r\\n3512,zul\\r\\n3513,nbl\\r\\n3514,xho\\r\\n3515,nso\\r\\n3516,zul\\r\\n3517,ven\\r\\n3518,nbl\\r\\n3519,ven\\r\\n3520,tso\\r\\n3521,afr\\r\\n3522,ven\\r\\n3523,sot\\r\\n3524,nbl\\r\\n3525,tso\\r\\n3526,nso\\r\\n3527,xho\\r\\n3528,zul\\r\\n3529,nso\\r\\n3530,afr\\r\\n3531,ven\\r\\n3532,xho\\r\\n3533,tsn\\r\\n3534,ven\\r\\n3535,tsn\\r\\n3536,nso\\r\\n3537,ven\\r\\n3538,sot\\r\\n3539,tsn\\r\\n3540,nso\\r\\n3541,xho\\r\\n3542,tsn\\r\\n3543,ven\\r\\n3544,ven\\r\\n3545,tso\\r\\n3546,ssw\\r\\n3547,nso\\r\\n3548,tsn\\r\\n3549,ssw\\r\\n3550,eng\\r\\n3551,eng\\r\\n3552,ven\\r\\n3553,tso\\r\\n3554,xho\\r\\n3555,xho\\r\\n3556,xho\\r\\n3557,nso\\r\\n3558,nso\\r\\n3559,afr\\r\\n3560,nso\\r\\n3561,nso\\r\\n3562,afr\\r\\n3563,afr\\r\\n3564,nso\\r\\n3565,nso\\r\\n3566,nso\\r\\n3567,afr\\r\\n3568,tso\\r\\n3569,sot\\r\\n3570,ssw\\r\\n3571,xho\\r\\n3572,nso\\r\\n3573,afr\\r\\n3574,tsn\\r\\n3575,nso\\r\\n3576,nbl\\r\\n3577,ven\\r\\n3578,afr\\r\\n3579,ven\\r\\n3580,nso\\r\\n3581,eng\\r\\n3582,tsn\\r\\n3583,afr\\r\\n3584,tso\\r\\n3585,xho\\r\\n3586,afr\\r\\n3587,ven\\r\\n3588,xho\\r\\n3589,afr\\r\\n3590,tso\\r\\n3591,ven\\r\\n3592,nso\\r\\n3593,ven\\r\\n3594,tso\\r\\n3595,tso\\r\\n3596,tsn\\r\\n3597,tso\\r\\n3598,nso\\r\\n3599,afr\\r\\n3600,tsn\\r\\n3601,sot\\r\\n3602,tsn\\r\\n3603,xho\\r\\n3604,tso\\r\\n3605,tso\\r\\n3606,afr\\r\\n3607,sot\\r\\n3608,zul\\r\\n3609,nso\\r\\n3610,tsn\\r\\n3611,tso\\r\\n3612,eng\\r\\n3613,sot\\r\\n3614,afr\\r\\n3615,afr\\r\\n3616,zul\\r\\n3617,afr\\r\\n3618,nbl\\r\\n3619,sot\\r\\n3620,ssw\\r\\n3621,eng\\r\\n3622,ven\\r\\n3623,nso\\r\\n3624,nbl\\r\\n3625,xho\\r\\n3626,sot\\r\\n3627,nso\\r\\n3628,afr\\r\\n3629,sot\\r\\n3630,nso\\r\\n3631,afr\\r\\n3632,sot\\r\\n3633,afr\\r\\n3634,eng\\r\\n3635,tso\\r\\n3636,eng\\r\\n3637,sot\\r\\n3638,ssw\\r\\n3639,sot\\r\\n3640,ven\\r\\n3641,sot\\r\\n3642,tso\\r\\n3643,ssw\\r\\n3644,afr\\r\\n3645,afr\\r\\n3646,sot\\r\\n3647,sot\\r\\n3648,xho\\r\\n3649,xho\\r\\n3650,eng\\r\\n3651,tso\\r\\n3652,nso\\r\\n3653,nso\\r\\n3654,tsn\\r\\n3655,ssw\\r\\n3656,sot\\r\\n3657,nso\\r\\n3658,sot\\r\\n3659,ssw\\r\\n3660,zul\\r\\n3661,nso\\r\\n3662,sot\\r\\n3663,zul\\r\\n3664,nso\\r\\n3665,sot\\r\\n3666,nso\\r\\n3667,ssw\\r\\n3668,xho\\r\\n3669,ssw\\r\\n3670,tso\\r\\n3671,xho\\r\\n3672,tso\\r\\n3673,tsn\\r\\n3674,nbl\\r\\n3675,tsn\\r\\n3676,xho\\r\\n3677,ssw\\r\\n3678,zul\\r\\n3679,xho\\r\\n3680,ven\\r\\n3681,nbl\\r\\n3682,xho\\r\\n3683,tsn\\r\\n3684,tso\\r\\n3685,eng\\r\\n3686,sot\\r\\n3687,tsn\\r\\n3688,ven\\r\\n3689,sot\\r\\n3690,sot\\r\\n3691,tso\\r\\n3692,xho\\r\\n3693,nso\\r\\n3694,xho\\r\\n3695,sot\\r\\n3696,sot\\r\\n3697,ssw\\r\\n3698,ven\\r\\n3699,ven\\r\\n3700,ven\\r\\n3701,ven\\r\\n3702,xho\\r\\n3703,tso\\r\\n3704,nso\\r\\n3705,ven\\r\\n3706,tsn\\r\\n3707,xho\\r\\n3708,tso\\r\\n3709,afr\\r\\n3710,sot\\r\\n3711,ven\\r\\n3712,tso\\r\\n3713,eng\\r\\n3714,sot\\r\\n3715,xho\\r\\n3716,nbl\\r\\n3717,afr\\r\\n3718,ven\\r\\n3719,tsn\\r\\n3720,zul\\r\\n3721,xho\\r\\n3722,xho\\r\\n3723,zul\\r\\n3724,xho\\r\\n3725,ssw\\r\\n3726,afr\\r\\n3727,nso\\r\\n3728,afr\\r\\n3729,tsn\\r\\n3730,sot\\r\\n3731,ssw\\r\\n3732,ven\\r\\n3733,zul\\r\\n3734,sot\\r\\n3735,xho\\r\\n3736,nso\\r\\n3737,afr\\r\\n3738,afr\\r\\n3739,ven\\r\\n3740,tso\\r\\n3741,tsn\\r\\n3742,sot\\r\\n3743,eng\\r\\n3744,tsn\\r\\n3745,tsn\\r\\n3746,zul\\r\\n3747,zul\\r\\n3748,nso\\r\\n3749,tsn\\r\\n3750,tso\\r\\n3751,ven\\r\\n3752,afr\\r\\n3753,nso\\r\\n3754,nso\\r\\n3755,nbl\\r\\n3756,tsn\\r\\n3757,sot\\r\\n3758,sot\\r\\n3759,afr\\r\\n3760,nso\\r\\n3761,nbl\\r\\n3762,nso\\r\\n3763,ven\\r\\n3764,nso\\r\\n3765,nso\\r\\n3766,tsn\\r\\n3767,zul\\r\\n3768,xho\\r\\n3769,eng\\r\\n3770,nso\\r\\n3771,tsn\\r\\n3772,xho\\r\\n3773,eng\\r\\n3774,sot\\r\\n3775,afr\\r\\n3776,afr\\r\\n3777,xho\\r\\n3778,ssw\\r\\n3779,tso\\r\\n3780,nso\\r\\n3781,nbl\\r\\n3782,sot\\r\\n3783,sot\\r\\n3784,nso\\r\\n3785,zul\\r\\n3786,afr\\r\\n3787,zul\\r\\n3788,xho\\r\\n3789,zul\\r\\n3790,xho\\r\\n3791,afr\\r\\n3792,zul\\r\\n3793,tsn\\r\\n3794,ven\\r\\n3795,afr\\r\\n3796,nso\\r\\n3797,nso\\r\\n3798,ssw\\r\\n3799,nbl\\r\\n3800,ven\\r\\n3801,xho\\r\\n3802,afr\\r\\n3803,tsn\\r\\n3804,eng\\r\\n3805,tso\\r\\n3806,tsn\\r\\n3807,sot\\r\\n3808,ssw\\r\\n3809,tsn\\r\\n3810,tsn\\r\\n3811,sot\\r\\n3812,nso\\r\\n3813,tsn\\r\\n3814,nbl\\r\\n3815,ssw\\r\\n3816,nso\\r\\n3817,ssw\\r\\n3818,tsn\\r\\n3819,zul\\r\\n3820,nso\\r\\n3821,tsn\\r\\n3822,ven\\r\\n3823,eng\\r\\n3824,nso\\r\\n3825,xho\\r\\n3826,ven\\r\\n3827,sot\\r\\n3828,afr\\r\\n3829,tsn\\r\\n3830,nso\\r\\n3831,ssw\\r\\n3832,sot\\r\\n3833,nbl\\r\\n3834,ssw\\r\\n3835,nso\\r\\n3836,tsn\\r\\n3837,nbl\\r\\n3838,tso\\r\\n3839,eng\\r\\n3840,tsn\\r\\n3841,nso\\r\\n3842,ven\\r\\n3843,tsn\\r\\n3844,ven\\r\\n3845,zul\\r\\n3846,ven\\r\\n3847,ven\\r\\n3848,sot\\r\\n3849,tsn\\r\\n3850,nbl\\r\\n3851,sot\\r\\n3852,nso\\r\\n3853,ven\\r\\n3854,zul\\r\\n3855,nso\\r\\n3856,tsn\\r\\n3857,nso\\r\\n3858,afr\\r\\n3859,sot\\r\\n3860,tso\\r\\n3861,zul\\r\\n3862,afr\\r\\n3863,xho\\r\\n3864,xho\\r\\n3865,ssw\\r\\n3866,afr\\r\\n3867,afr\\r\\n3868,nso\\r\\n3869,ven\\r\\n3870,tso\\r\\n3871,nbl\\r\\n3872,ven\\r\\n3873,tsn\\r\\n3874,ssw\\r\\n3875,afr\\r\\n3876,eng\\r\\n3877,ven\\r\\n3878,ssw\\r\\n3879,xho\\r\\n3880,zul\\r\\n3881,nso\\r\\n3882,nbl\\r\\n3883,sot\\r\\n3884,tsn\\r\\n3885,sot\\r\\n3886,ven\\r\\n3887,tsn\\r\\n3888,ssw\\r\\n3889,sot\\r\\n3890,afr\\r\\n3891,zul\\r\\n3892,nso\\r\\n3893,sot\\r\\n3894,sot\\r\\n3895,nso\\r\\n3896,ssw\\r\\n3897,xho\\r\\n3898,tso\\r\\n3899,eng\\r\\n3900,ven\\r\\n3901,afr\\r\\n3902,nso\\r\\n3903,eng\\r\\n3904,nso\\r\\n3905,sot\\r\\n3906,nso\\r\\n3907,nso\\r\\n3908,xho\\r\\n3909,afr\\r\\n3910,sot\\r\\n3911,zul\\r\\n3912,xho\\r\\n3913,tsn\\r\\n3914,zul\\r\\n3915,afr\\r\\n3916,sot\\r\\n3917,nbl\\r\\n3918,nso\\r\\n3919,nso\\r\\n3920,tso\\r\\n3921,ssw\\r\\n3922,ven\\r\\n3923,tsn\\r\\n3924,ven\\r\\n3925,zul\\r\\n3926,nso\\r\\n3927,nso\\r\\n3928,nso\\r\\n3929,afr\\r\\n3930,zul\\r\\n3931,afr\\r\\n3932,xho\\r\\n3933,sot\\r\\n3934,nso\\r\\n3935,nso\\r\\n3936,xho\\r\\n3937,afr\\r\\n3938,tso\\r\\n3939,afr\\r\\n3940,ven\\r\\n3941,ssw\\r\\n3942,ven\\r\\n3943,zul\\r\\n3944,tso\\r\\n3945,afr\\r\\n3946,nso\\r\\n3947,sot\\r\\n3948,xho\\r\\n3949,xho\\r\\n3950,sot\\r\\n3951,nso\\r\\n3952,tso\\r\\n3953,sot\\r\\n3954,afr\\r\\n3955,xho\\r\\n3956,afr\\r\\n3957,sot\\r\\n3958,afr\\r\\n3959,eng\\r\\n3960,ven\\r\\n3961,tso\\r\\n3962,xho\\r\\n3963,ven\\r\\n3964,nso\\r\\n3965,tsn\\r\\n3966,xho\\r\\n3967,sot\\r\\n3968,xho\\r\\n3969,zul\\r\\n3970,nso\\r\\n3971,xho\\r\\n3972,xho\\r\\n3973,nso\\r\\n3974,sot\\r\\n3975,ssw\\r\\n3976,tsn\\r\\n3977,nso\\r\\n3978,nso\\r\\n3979,tsn\\r\\n3980,nso\\r\\n3981,tso\\r\\n3982,ssw\\r\\n3983,afr\\r\\n3984,nso\\r\\n3985,sot\\r\\n3986,ven\\r\\n3987,xho\\r\\n3988,afr\\r\\n3989,ssw\\r\\n3990,eng\\r\\n3991,ven\\r\\n3992,xho\\r\\n3993,afr\\r\\n3994,tso\\r\\n3995,ven\\r\\n3996,ven\\r\\n3997,tsn\\r\\n3998,xho\\r\\n3999,nso\\r\\n4000,ven\\r\\n4001,tso\\r\\n4002,zul\\r\\n4003,zul\\r\\n4004,tso\\r\\n4005,zul\\r\\n4006,nso\\r\\n4007,tsn\\r\\n4008,xho\\r\\n4009,ven\\r\\n4010,nso\\r\\n4011,xho\\r\\n4012,tso\\r\\n4013,nbl\\r\\n4014,tsn\\r\\n4015,tso\\r\\n4016,nbl\\r\\n4017,zul\\r\\n4018,ssw\\r\\n4019,nbl\\r\\n4020,ven\\r\\n4021,ssw\\r\\n4022,afr\\r\\n4023,nso\\r\\n4024,tso\\r\\n4025,zul\\r\\n4026,tsn\\r\\n4027,xho\\r\\n4028,zul\\r\\n4029,tso\\r\\n4030,nbl\\r\\n4031,tsn\\r\\n4032,xho\\r\\n4033,afr\\r\\n4034,afr\\r\\n4035,nso\\r\\n4036,nso\\r\\n4037,afr\\r\\n4038,sot\\r\\n4039,nbl\\r\\n4040,sot\\r\\n4041,ssw\\r\\n4042,afr\\r\\n4043,tsn\\r\\n4044,xho\\r\\n4045,ven\\r\\n4046,ven\\r\\n4047,ven\\r\\n4048,sot\\r\\n4049,xho\\r\\n4050,afr\\r\\n4051,ven\\r\\n4052,afr\\r\\n4053,nbl\\r\\n4054,ven\\r\\n4055,sot\\r\\n4056,afr\\r\\n4057,tsn\\r\\n4058,ven\\r\\n4059,nso\\r\\n4060,afr\\r\\n4061,ven\\r\\n4062,ven\\r\\n4063,xho\\r\\n4064,ssw\\r\\n4065,sot\\r\\n4066,xho\\r\\n4067,zul\\r\\n4068,afr\\r\\n4069,tso\\r\\n4070,sot\\r\\n4071,zul\\r\\n4072,xho\\r\\n4073,nso\\r\\n4074,xho\\r\\n4075,nso\\r\\n4076,tsn\\r\\n4077,ven\\r\\n4078,xho\\r\\n4079,afr\\r\\n4080,sot\\r\\n4081,xho\\r\\n4082,afr\\r\\n4083,sot\\r\\n4084,nso\\r\\n4085,tso\\r\\n4086,afr\\r\\n4087,tso\\r\\n4088,sot\\r\\n4089,ven\\r\\n4090,tso\\r\\n4091,afr\\r\\n4092,tso\\r\\n4093,tsn\\r\\n4094,tsn\\r\\n4095,xho\\r\\n4096,afr\\r\\n4097,nso\\r\\n4098,tsn\\r\\n4099,afr\\r\\n4100,sot\\r\\n4101,sot\\r\\n4102,ven\\r\\n4103,xho\\r\\n4104,tsn\\r\\n4105,tsn\\r\\n4106,xho\\r\\n4107,tsn\\r\\n4108,afr\\r\\n4109,xho\\r\\n4110,xho\\r\\n4111,xho\\r\\n4112,afr\\r\\n4113,sot\\r\\n4114,xho\\r\\n4115,ven\\r\\n4116,tsn\\r\\n4117,nso\\r\\n4118,sot\\r\\n4119,ven\\r\\n4120,ven\\r\\n4121,afr\\r\\n4122,nso\\r\\n4123,zul\\r\\n4124,afr\\r\\n4125,tsn\\r\\n4126,zul\\r\\n4127,tsn\\r\\n4128,sot\\r\\n4129,tsn\\r\\n4130,nso\\r\\n4131,xho\\r\\n4132,afr\\r\\n4133,nso\\r\\n4134,nso\\r\\n4135,tso\\r\\n4136,afr\\r\\n4137,tsn\\r\\n4138,eng\\r\\n4139,ssw\\r\\n4140,nso\\r\\n4141,xho\\r\\n4142,ssw\\r\\n4143,nso\\r\\n4144,sot\\r\\n4145,xho\\r\\n4146,ven\\r\\n4147,nso\\r\\n4148,tsn\\r\\n4149,tsn\\r\\n4150,afr\\r\\n4151,nso\\r\\n4152,zul\\r\\n4153,sot\\r\\n4154,sot\\r\\n4155,afr\\r\\n4156,afr\\r\\n4157,afr\\r\\n4158,nbl\\r\\n4159,nbl\\r\\n4160,afr\\r\\n4161,xho\\r\\n4162,nso\\r\\n4163,zul\\r\\n4164,tso\\r\\n4165,tso\\r\\n4166,ven\\r\\n4167,tso\\r\\n4168,zul\\r\\n4169,nso\\r\\n4170,tsn\\r\\n4171,tsn\\r\\n4172,eng\\r\\n4173,xho\\r\\n4174,nbl\\r\\n4175,xho\\r\\n4176,ven\\r\\n4177,sot\\r\\n4178,tso\\r\\n4179,nso\\r\\n4180,sot\\r\\n4181,ven\\r\\n4182,xho\\r\\n4183,tso\\r\\n4184,ssw\\r\\n4185,tsn\\r\\n4186,sot\\r\\n4187,sot\\r\\n4188,tsn\\r\\n4189,afr\\r\\n4190,nbl\\r\\n4191,nso\\r\\n4192,xho\\r\\n4193,xho\\r\\n4194,afr\\r\\n4195,tsn\\r\\n4196,xho\\r\\n4197,eng\\r\\n4198,afr\\r\\n4199,xho\\r\\n4200,xho\\r\\n4201,nso\\r\\n4202,nso\\r\\n4203,nso\\r\\n4204,xho\\r\\n4205,ven\\r\\n4206,ven\\r\\n4207,nso\\r\\n4208,afr\\r\\n4209,zul\\r\\n4210,ven\\r\\n4211,tsn\\r\\n4212,ssw\\r\\n4213,nbl\\r\\n4214,xho\\r\\n4215,ven\\r\\n4216,tso\\r\\n4217,tso\\r\\n4218,ven\\r\\n4219,xho\\r\\n4220,zul\\r\\n4221,nso\\r\\n4222,nbl\\r\\n4223,nso\\r\\n4224,xho\\r\\n4225,afr\\r\\n4226,nbl\\r\\n4227,sot\\r\\n4228,tsn\\r\\n4229,ven\\r\\n4230,xho\\r\\n4231,ssw\\r\\n4232,nso\\r\\n4233,tso\\r\\n4234,tsn\\r\\n4235,nso\\r\\n4236,afr\\r\\n4237,sot\\r\\n4238,tso\\r\\n4239,nso\\r\\n4240,afr\\r\\n4241,nso\\r\\n4242,tso\\r\\n4243,sot\\r\\n4244,tso\\r\\n4245,nbl\\r\\n4246,ven\\r\\n4247,ssw\\r\\n4248,eng\\r\\n4249,afr\\r\\n4250,tsn\\r\\n4251,nso\\r\\n4252,tso\\r\\n4253,ven\\r\\n4254,xho\\r\\n4255,ven\\r\\n4256,sot\\r\\n4257,nbl\\r\\n4258,sot\\r\\n4259,xho\\r\\n4260,ven\\r\\n4261,xho\\r\\n4262,ven\\r\\n4263,nso\\r\\n4264,afr\\r\\n4265,nso\\r\\n4266,nso\\r\\n4267,afr\\r\\n4268,tsn\\r\\n4269,zul\\r\\n4270,xho\\r\\n4271,afr\\r\\n4272,ssw\\r\\n4273,xho\\r\\n4274,sot\\r\\n4275,zul\\r\\n4276,ven\\r\\n4277,sot\\r\\n4278,xho\\r\\n4279,tsn\\r\\n4280,zul\\r\\n4281,ven\\r\\n4282,sot\\r\\n4283,ven\\r\\n4284,eng\\r\\n4285,ssw\\r\\n4286,ssw\\r\\n4287,tsn\\r\\n4288,xho\\r\\n4289,xho\\r\\n4290,zul\\r\\n4291,ven\\r\\n4292,afr\\r\\n4293,ssw\\r\\n4294,zul\\r\\n4295,xho\\r\\n4296,tso\\r\\n4297,tsn\\r\\n4298,tsn\\r\\n4299,tso\\r\\n4300,ven\\r\\n4301,sot\\r\\n4302,nso\\r\\n4303,nso\\r\\n4304,nso\\r\\n4305,nso\\r\\n4306,afr\\r\\n4307,afr\\r\\n4308,afr\\r\\n4309,xho\\r\\n4310,tso\\r\\n4311,sot\\r\\n4312,sot\\r\\n4313,nbl\\r\\n4314,nbl\\r\\n4315,afr\\r\\n4316,ven\\r\\n4317,tso\\r\\n4318,tsn\\r\\n4319,nso\\r\\n4320,eng\\r\\n4321,ven\\r\\n4322,tsn\\r\\n4323,ven\\r\\n4324,eng\\r\\n4325,xho\\r\\n4326,nso\\r\\n4327,xho\\r\\n4328,sot\\r\\n4329,ven\\r\\n4330,nso\\r\\n4331,xho\\r\\n4332,ven\\r\\n4333,nso\\r\\n4334,xho\\r\\n4335,nso\\r\\n4336,eng\\r\\n4337,sot\\r\\n4338,ven\\r\\n4339,ven\\r\\n4340,eng\\r\\n4341,ssw\\r\\n4342,afr\\r\\n4343,sot\\r\\n4344,ssw\\r\\n4345,tso\\r\\n4346,ssw\\r\\n4347,sot\\r\\n4348,xho\\r\\n4349,nso\\r\\n4350,afr\\r\\n4351,xho\\r\\n4352,zul\\r\\n4353,afr\\r\\n4354,tso\\r\\n4355,xho\\r\\n4356,nso\\r\\n4357,tsn\\r\\n4358,ven\\r\\n4359,tsn\\r\\n4360,afr\\r\\n4361,nso\\r\\n4362,sot\\r\\n4363,afr\\r\\n4364,eng\\r\\n4365,sot\\r\\n4366,afr\\r\\n4367,zul\\r\\n4368,nso\\r\\n4369,nbl\\r\\n4370,nso\\r\\n4371,xho\\r\\n4372,afr\\r\\n4373,sot\\r\\n4374,eng\\r\\n4375,nso\\r\\n4376,zul\\r\\n4377,ven\\r\\n4378,nso\\r\\n4379,tsn\\r\\n4380,tsn\\r\\n4381,ssw\\r\\n4382,ven\\r\\n4383,nbl\\r\\n4384,ven\\r\\n4385,zul\\r\\n4386,afr\\r\\n4387,tsn\\r\\n4388,nso\\r\\n4389,afr\\r\\n4390,afr\\r\\n4391,afr\\r\\n4392,nso\\r\\n4393,nbl\\r\\n4394,tso\\r\\n4395,zul\\r\\n4396,xho\\r\\n4397,afr\\r\\n4398,eng\\r\\n4399,tso\\r\\n4400,afr\\r\\n4401,nso\\r\\n4402,afr\\r\\n4403,nso\\r\\n4404,ven\\r\\n4405,afr\\r\\n4406,nso\\r\\n4407,nso\\r\\n4408,ssw\\r\\n4409,ven\\r\\n4410,nso\\r\\n4411,afr\\r\\n4412,tso\\r\\n4413,ven\\r\\n4414,ven\\r\\n4415,zul\\r\\n4416,nso\\r\\n4417,afr\\r\\n4418,zul\\r\\n4419,sot\\r\\n4420,ssw\\r\\n4421,ssw\\r\\n4422,ven\\r\\n4423,sot\\r\\n4424,tsn\\r\\n4425,tsn\\r\\n4426,eng\\r\\n4427,ven\\r\\n4428,nso\\r\\n4429,ven\\r\\n4430,sot\\r\\n4431,nso\\r\\n4432,sot\\r\\n4433,afr\\r\\n4434,tso\\r\\n4435,afr\\r\\n4436,afr\\r\\n4437,nso\\r\\n4438,ven\\r\\n4439,ssw\\r\\n4440,nbl\\r\\n4441,tsn\\r\\n4442,eng\\r\\n4443,ven\\r\\n4444,tsn\\r\\n4445,nso\\r\\n4446,nso\\r\\n4447,nbl\\r\\n4448,ven\\r\\n4449,sot\\r\\n4450,ven\\r\\n4451,tso\\r\\n4452,nbl\\r\\n4453,zul\\r\\n4454,tso\\r\\n4455,zul\\r\\n4456,afr\\r\\n4457,xho\\r\\n4458,zul\\r\\n4459,tsn\\r\\n4460,ven\\r\\n4461,nso\\r\\n4462,afr\\r\\n4463,afr\\r\\n4464,tso\\r\\n4465,ven\\r\\n4466,tso\\r\\n4467,nbl\\r\\n4468,ven\\r\\n4469,tso\\r\\n4470,ven\\r\\n4471,xho\\r\\n4472,afr\\r\\n4473,tso\\r\\n4474,nso\\r\\n4475,afr\\r\\n4476,xho\\r\\n4477,nbl\\r\\n4478,nso\\r\\n4479,ven\\r\\n4480,xho\\r\\n4481,xho\\r\\n4482,nso\\r\\n4483,nso\\r\\n4484,tsn\\r\\n4485,ven\\r\\n4486,sot\\r\\n4487,tsn\\r\\n4488,xho\\r\\n4489,sot\\r\\n4490,tsn\\r\\n4491,nso\\r\\n4492,tso\\r\\n4493,ven\\r\\n4494,ssw\\r\\n4495,afr\\r\\n4496,ven\\r\\n4497,ven\\r\\n4498,afr\\r\\n4499,ssw\\r\\n4500,nso\\r\\n4501,ssw\\r\\n4502,xho\\r\\n4503,nso\\r\\n4504,tsn\\r\\n4505,sot\\r\\n4506,ven\\r\\n4507,xho\\r\\n4508,eng\\r\\n4509,ven\\r\\n4510,tsn\\r\\n4511,nbl\\r\\n4512,xho\\r\\n4513,xho\\r\\n4514,tso\\r\\n4515,xho\\r\\n4516,tsn\\r\\n4517,xho\\r\\n4518,sot\\r\\n4519,ven\\r\\n4520,tsn\\r\\n4521,tsn\\r\\n4522,nso\\r\\n4523,ven\\r\\n4524,ven\\r\\n4525,zul\\r\\n4526,nso\\r\\n4527,tsn\\r\\n4528,nso\\r\\n4529,ven\\r\\n4530,xho\\r\\n4531,tsn\\r\\n4532,xho\\r\\n4533,ssw\\r\\n4534,tsn\\r\\n4535,afr\\r\\n4536,sot\\r\\n4537,nso\\r\\n4538,afr\\r\\n4539,tsn\\r\\n4540,eng\\r\\n4541,nso\\r\\n4542,afr\\r\\n4543,afr\\r\\n4544,tsn\\r\\n4545,tso\\r\\n4546,nso\\r\\n4547,sot\\r\\n4548,ven\\r\\n4549,eng\\r\\n4550,tsn\\r\\n4551,zul\\r\\n4552,afr\\r\\n4553,tsn\\r\\n4554,zul\\r\\n4555,xho\\r\\n4556,xho\\r\\n4557,tso\\r\\n4558,tso\\r\\n4559,ven\\r\\n4560,tsn\\r\\n4561,tsn\\r\\n4562,nso\\r\\n4563,eng\\r\\n4564,sot\\r\\n4565,tsn\\r\\n4566,sot\\r\\n4567,sot\\r\\n4568,ven\\r\\n4569,sot\\r\\n4570,sot\\r\\n4571,tsn\\r\\n4572,ven\\r\\n4573,afr\\r\\n4574,xho\\r\\n4575,ssw\\r\\n4576,tsn\\r\\n4577,zul\\r\\n4578,tsn\\r\\n4579,zul\\r\\n4580,xho\\r\\n4581,tso\\r\\n4582,tso\\r\\n4583,sot\\r\\n4584,nso\\r\\n4585,tsn\\r\\n4586,tsn\\r\\n4587,ssw\\r\\n4588,sot\\r\\n4589,ssw\\r\\n4590,nso\\r\\n4591,sot\\r\\n4592,zul\\r\\n4593,tso\\r\\n4594,ven\\r\\n4595,ssw\\r\\n4596,tsn\\r\\n4597,ven\\r\\n4598,eng\\r\\n4599,sot\\r\\n4600,afr\\r\\n4601,nso\\r\\n4602,ven\\r\\n4603,sot\\r\\n4604,tsn\\r\\n4605,ven\\r\\n4606,tso\\r\\n4607,ssw\\r\\n4608,afr\\r\\n4609,xho\\r\\n4610,nso\\r\\n4611,afr\\r\\n4612,sot\\r\\n4613,tso\\r\\n4614,afr\\r\\n4615,afr\\r\\n4616,xho\\r\\n4617,eng\\r\\n4618,tsn\\r\\n4619,tsn\\r\\n4620,afr\\r\\n4621,ven\\r\\n4622,xho\\r\\n4623,tsn\\r\\n4624,ven\\r\\n4625,tso\\r\\n4626,zul\\r\\n4627,ven\\r\\n4628,afr\\r\\n4629,tso\\r\\n4630,tsn\\r\\n4631,tsn\\r\\n4632,tsn\\r\\n4633,eng\\r\\n4634,ven\\r\\n4635,tsn\\r\\n4636,xho\\r\\n4637,xho\\r\\n4638,eng\\r\\n4639,tso\\r\\n4640,xho\\r\\n4641,nso\\r\\n4642,nso\\r\\n4643,tso\\r\\n4644,tso\\r\\n4645,nso\\r\\n4646,nso\\r\\n4647,nso\\r\\n4648,tso\\r\\n4649,ven\\r\\n4650,nbl\\r\\n4651,zul\\r\\n4652,sot\\r\\n4653,ven\\r\\n4654,afr\\r\\n4655,nso\\r\\n4656,tso\\r\\n4657,sot\\r\\n4658,ssw\\r\\n4659,tso\\r\\n4660,xho\\r\\n4661,zul\\r\\n4662,xho\\r\\n4663,nso\\r\\n4664,xho\\r\\n4665,afr\\r\\n4666,eng\\r\\n4667,zul\\r\\n4668,nso\\r\\n4669,afr\\r\\n4670,xho\\r\\n4671,xho\\r\\n4672,nso\\r\\n4673,ven\\r\\n4674,nbl\\r\\n4675,xho\\r\\n4676,xho\\r\\n4677,xho\\r\\n4678,zul\\r\\n4679,nso\\r\\n4680,tso\\r\\n4681,xho\\r\\n4682,ssw\\r\\n4683,zul\\r\\n4684,ven\\r\\n4685,xho\\r\\n4686,afr\\r\\n4687,sot\\r\\n4688,tsn\\r\\n4689,tso\\r\\n4690,tso\\r\\n4691,xho\\r\\n4692,nbl\\r\\n4693,nso\\r\\n4694,tsn\\r\\n4695,ven\\r\\n4696,sot\\r\\n4697,sot\\r\\n4698,tsn\\r\\n4699,ven\\r\\n4700,ssw\\r\\n4701,afr\\r\\n4702,ssw\\r\\n4703,tsn\\r\\n4704,zul\\r\\n4705,tso\\r\\n4706,xho\\r\\n4707,ven\\r\\n4708,sot\\r\\n4709,tsn\\r\\n4710,nbl\\r\\n4711,afr\\r\\n4712,xho\\r\\n4713,nso\\r\\n4714,afr\\r\\n4715,afr\\r\\n4716,xho\\r\\n4717,tsn\\r\\n4718,eng\\r\\n4719,xho\\r\\n4720,nbl\\r\\n4721,afr\\r\\n4722,nso\\r\\n4723,tsn\\r\\n4724,xho\\r\\n4725,sot\\r\\n4726,xho\\r\\n4727,zul\\r\\n4728,tsn\\r\\n4729,tsn\\r\\n4730,eng\\r\\n4731,nso\\r\\n4732,xho\\r\\n4733,nso\\r\\n4734,eng\\r\\n4735,xho\\r\\n4736,xho\\r\\n4737,tso\\r\\n4738,tsn\\r\\n4739,nbl\\r\\n4740,tso\\r\\n4741,nso\\r\\n4742,nso\\r\\n4743,sot\\r\\n4744,xho\\r\\n4745,ssw\\r\\n4746,tsn\\r\\n4747,xho\\r\\n4748,nso\\r\\n4749,afr\\r\\n4750,xho\\r\\n4751,afr\\r\\n4752,zul\\r\\n4753,sot\\r\\n4754,nso\\r\\n4755,nso\\r\\n4756,afr\\r\\n4757,nso\\r\\n4758,tsn\\r\\n4759,zul\\r\\n4760,sot\\r\\n4761,nso\\r\\n4762,tsn\\r\\n4763,tsn\\r\\n4764,tsn\\r\\n4765,tsn\\r\\n4766,nso\\r\\n4767,sot\\r\\n4768,ven\\r\\n4769,sot\\r\\n4770,ven\\r\\n4771,eng\\r\\n4772,xho\\r\\n4773,sot\\r\\n4774,ssw\\r\\n4775,eng\\r\\n4776,nso\\r\\n4777,nso\\r\\n4778,sot\\r\\n4779,nbl\\r\\n4780,nbl\\r\\n4781,nso\\r\\n4782,ven\\r\\n4783,tso\\r\\n4784,afr\\r\\n4785,afr\\r\\n4786,tso\\r\\n4787,xho\\r\\n4788,ven\\r\\n4789,afr\\r\\n4790,nso\\r\\n4791,zul\\r\\n4792,afr\\r\\n4793,nbl\\r\\n4794,afr\\r\\n4795,nso\\r\\n4796,ven\\r\\n4797,ven\\r\\n4798,tso\\r\\n4799,nso\\r\\n4800,afr\\r\\n4801,xho\\r\\n4802,nso\\r\\n4803,tsn\\r\\n4804,eng\\r\\n4805,zul\\r\\n4806,eng\\r\\n4807,ven\\r\\n4808,nso\\r\\n4809,eng\\r\\n4810,afr\\r\\n4811,eng\\r\\n4812,xho\\r\\n4813,xho\\r\\n4814,nbl\\r\\n4815,nso\\r\\n4816,tso\\r\\n4817,ven\\r\\n4818,tso\\r\\n4819,tsn\\r\\n4820,xho\\r\\n4821,nbl\\r\\n4822,nso\\r\\n4823,nso\\r\\n4824,sot\\r\\n4825,sot\\r\\n4826,afr\\r\\n4827,afr\\r\\n4828,nbl\\r\\n4829,nso\\r\\n4830,ssw\\r\\n4831,sot\\r\\n4832,ven\\r\\n4833,eng\\r\\n4834,ssw\\r\\n4835,sot\\r\\n4836,zul\\r\\n4837,tsn\\r\\n4838,sot\\r\\n4839,nbl\\r\\n4840,xho\\r\\n4841,tsn\\r\\n4842,tsn\\r\\n4843,zul\\r\\n4844,xho\\r\\n4845,xho\\r\\n4846,ven\\r\\n4847,tso\\r\\n4848,afr\\r\\n4849,tso\\r\\n4850,xho\\r\\n4851,afr\\r\\n4852,sot\\r\\n4853,sot\\r\\n4854,nbl\\r\\n4855,nso\\r\\n4856,xho\\r\\n4857,nso\\r\\n4858,nso\\r\\n4859,ven\\r\\n4860,afr\\r\\n4861,afr\\r\\n4862,afr\\r\\n4863,ssw\\r\\n4864,nso\\r\\n4865,sot\\r\\n4866,xho\\r\\n4867,nso\\r\\n4868,ssw\\r\\n4869,xho\\r\\n4870,afr\\r\\n4871,ssw\\r\\n4872,sot\\r\\n4873,ven\\r\\n4874,xho\\r\\n4875,ven\\r\\n4876,zul\\r\\n4877,zul\\r\\n4878,ven\\r\\n4879,nbl\\r\\n4880,tsn\\r\\n4881,xho\\r\\n4882,afr\\r\\n4883,ven\\r\\n4884,nbl\\r\\n4885,sot\\r\\n4886,tso\\r\\n4887,ssw\\r\\n4888,nso\\r\\n4889,xho\\r\\n4890,ssw\\r\\n4891,zul\\r\\n4892,eng\\r\\n4893,nso\\r\\n4894,ven\\r\\n4895,zul\\r\\n4896,afr\\r\\n4897,nbl\\r\\n4898,zul\\r\\n4899,nso\\r\\n4900,tso\\r\\n4901,eng\\r\\n4902,tsn\\r\\n4903,xho\\r\\n4904,afr\\r\\n4905,zul\\r\\n4906,tso\\r\\n4907,xho\\r\\n4908,sot\\r\\n4909,nso\\r\\n4910,tsn\\r\\n4911,sot\\r\\n4912,sot\\r\\n4913,nso\\r\\n4914,nso\\r\\n4915,nso\\r\\n4916,eng\\r\\n4917,tsn\\r\\n4918,nso\\r\\n4919,nbl\\r\\n4920,nso\\r\\n4921,afr\\r\\n4922,nbl\\r\\n4923,tso\\r\\n4924,tso\\r\\n4925,afr\\r\\n4926,afr\\r\\n4927,ven\\r\\n4928,ven\\r\\n4929,ven\\r\\n4930,ssw\\r\\n4931,nbl\\r\\n4932,zul\\r\\n4933,ven\\r\\n4934,nso\\r\\n4935,ven\\r\\n4936,eng\\r\\n4937,ssw\\r\\n4938,tsn\\r\\n4939,ssw\\r\\n4940,nso\\r\\n4941,ven\\r\\n4942,nso\\r\\n4943,ssw\\r\\n4944,eng\\r\\n4945,xho\\r\\n4946,tso\\r\\n4947,tsn\\r\\n4948,tso\\r\\n4949,afr\\r\\n4950,xho\\r\\n4951,eng\\r\\n4952,afr\\r\\n4953,nso\\r\\n4954,ssw\\r\\n4955,nso\\r\\n4956,tso\\r\\n4957,nso\\r\\n4958,tsn\\r\\n4959,xho\\r\\n4960,eng\\r\\n4961,nso\\r\\n4962,ssw\\r\\n4963,nso\\r\\n4964,afr\\r\\n4965,sot\\r\\n4966,tsn\\r\\n4967,nbl\\r\\n4968,zul\\r\\n4969,sot\\r\\n4970,nso\\r\\n4971,nso\\r\\n4972,nso\\r\\n4973,ssw\\r\\n4974,eng\\r\\n4975,afr\\r\\n4976,tso\\r\\n4977,tso\\r\\n4978,ven\\r\\n4979,tsn\\r\\n4980,zul\\r\\n4981,eng\\r\\n4982,afr\\r\\n4983,tso\\r\\n4984,tsn\\r\\n4985,afr\\r\\n4986,nso\\r\\n4987,ven\\r\\n4988,afr\\r\\n4989,ven\\r\\n4990,afr\\r\\n4991,nso\\r\\n4992,nso\\r\\n4993,xho\\r\\n4994,tsn\\r\\n4995,afr\\r\\n4996,tsn\\r\\n4997,nso\\r\\n4998,tsn\\r\\n4999,afr\\r\\n5000,eng\\r\\n5001,sot\\r\\n5002,ven\\r\\n5003,tsn\\r\\n5004,sot\\r\\n5005,afr\\r\\n5006,sot\\r\\n5007,ssw\\r\\n5008,afr\\r\\n5009,ven\\r\\n5010,ven\\r\\n5011,xho\\r\\n5012,sot\\r\\n5013,ven\\r\\n5014,nso\\r\\n5015,tso\\r\\n5016,sot\\r\\n5017,zul\\r\\n5018,ssw\\r\\n5019,xho\\r\\n5020,nso\\r\\n5021,xho\\r\\n5022,zul\\r\\n5023,tso\\r\\n5024,zul\\r\\n5025,tso\\r\\n5026,zul\\r\\n5027,nso\\r\\n5028,eng\\r\\n5029,xho\\r\\n5030,sot\\r\\n5031,ven\\r\\n5032,sot\\r\\n5033,afr\\r\\n5034,afr\\r\\n5035,nbl\\r\\n5036,xho\\r\\n5037,xho\\r\\n5038,eng\\r\\n5039,ssw\\r\\n5040,tso\\r\\n5041,ssw\\r\\n5042,afr\\r\\n5043,sot\\r\\n5044,afr\\r\\n5045,nso\\r\\n5046,ssw\\r\\n5047,sot\\r\\n5048,tsn\\r\\n5049,eng\\r\\n5050,sot\\r\\n5051,nbl\\r\\n5052,sot\\r\\n5053,sot\\r\\n5054,tso\\r\\n5055,ven\\r\\n5056,zul\\r\\n5057,afr\\r\\n5058,xho\\r\\n5059,zul\\r\\n5060,afr\\r\\n5061,sot\\r\\n5062,zul\\r\\n5063,tsn\\r\\n5064,zul\\r\\n5065,nbl\\r\\n5066,ven\\r\\n5067,sot\\r\\n5068,ssw\\r\\n5069,tsn\\r\\n5070,nso\\r\\n5071,afr\\r\\n5072,zul\\r\\n5073,ven\\r\\n5074,ssw\\r\\n5075,nso\\r\\n5076,afr\\r\\n5077,eng\\r\\n5078,afr\\r\\n5079,ven\\r\\n5080,zul\\r\\n5081,zul\\r\\n5082,nbl\\r\\n5083,ssw\\r\\n5084,ven\\r\\n5085,tso\\r\\n5086,tsn\\r\\n5087,sot\\r\\n5088,xho\\r\\n5089,nbl\\r\\n5090,ven\\r\\n5091,xho\\r\\n5092,afr\\r\\n5093,ssw\\r\\n5094,sot\\r\\n5095,afr\\r\\n5096,eng\\r\\n5097,ven\\r\\n5098,ven\\r\\n5099,afr\\r\\n5100,tsn\\r\\n5101,afr\\r\\n5102,tsn\\r\\n5103,tsn\\r\\n5104,tsn\\r\\n5105,afr\\r\\n5106,sot\\r\\n5107,sot\\r\\n5108,ven\\r\\n5109,nso\\r\\n5110,nso\\r\\n5111,nbl\\r\\n5112,nso\\r\\n5113,sot\\r\\n5114,afr\\r\\n5115,nbl\\r\\n5116,sot\\r\\n5117,xho\\r\\n5118,nso\\r\\n5119,afr\\r\\n5120,sot\\r\\n5121,ven\\r\\n5122,ssw\\r\\n5123,sot\\r\\n5124,nso\\r\\n5125,afr\\r\\n5126,afr\\r\\n5127,zul\\r\\n5128,ssw\\r\\n5129,ven\\r\\n5130,xho\\r\\n5131,afr\\r\\n5132,nso\\r\\n5133,ssw\\r\\n5134,tso\\r\\n5135,nbl\\r\\n5136,tsn\\r\\n5137,tsn\\r\\n5138,tsn\\r\\n5139,xho\\r\\n5140,tso\\r\\n5141,ssw\\r\\n5142,xho\\r\\n5143,eng\\r\\n5144,tsn\\r\\n5145,tso\\r\\n5146,afr\\r\\n5147,nso\\r\\n5148,ven\\r\\n5149,xho\\r\\n5150,tsn\\r\\n5151,afr\\r\\n5152,nso\\r\\n5153,nso\\r\\n5154,tso\\r\\n5155,nbl\\r\\n5156,sot\\r\\n5157,sot\\r\\n5158,ssw\\r\\n5159,eng\\r\\n5160,ssw\\r\\n5161,nso\\r\\n5162,tsn\\r\\n5163,sot\\r\\n5164,ven\\r\\n5165,afr\\r\\n5166,nso\\r\\n5167,tso\\r\\n5168,xho\\r\\n5169,nso\\r\\n5170,tsn\\r\\n5171,nso\\r\\n5172,zul\\r\\n5173,nbl\\r\\n5174,zul\\r\\n5175,afr\\r\\n5176,tso\\r\\n5177,sot\\r\\n5178,ven\\r\\n5179,sot\\r\\n5180,nbl\\r\\n5181,tso\\r\\n5182,afr\\r\\n5183,afr\\r\\n5184,sot\\r\\n5185,sot\\r\\n5186,nso\\r\\n5187,sot\\r\\n5188,nso\\r\\n5189,zul\\r\\n5190,nso\\r\\n5191,zul\\r\\n5192,ssw\\r\\n5193,xho\\r\\n5194,xho\\r\\n5195,nso\\r\\n5196,ven\\r\\n5197,eng\\r\\n5198,nbl\\r\\n5199,sot\\r\\n5200,ven\\r\\n5201,nbl\\r\\n5202,nso\\r\\n5203,nbl\\r\\n5204,afr\\r\\n5205,afr\\r\\n5206,afr\\r\\n5207,tsn\\r\\n5208,nbl\\r\\n5209,tso\\r\\n5210,ven\\r\\n5211,nso\\r\\n5212,tso\\r\\n5213,ven\\r\\n5214,sot\\r\\n5215,nso\\r\\n5216,xho\\r\\n5217,afr\\r\\n5218,afr\\r\\n5219,ven\\r\\n5220,zul\\r\\n5221,xho\\r\\n5222,tsn\\r\\n5223,ven\\r\\n5224,tso\\r\\n5225,nbl\\r\\n5226,afr\\r\\n5227,nso\\r\\n5228,nso\\r\\n5229,xho\\r\\n5230,afr\\r\\n5231,tso\\r\\n5232,sot\\r\\n5233,sot\\r\\n5234,tso\\r\\n5235,nso\\r\\n5236,tsn\\r\\n5237,sot\\r\\n5238,ven\\r\\n5239,nso\\r\\n5240,afr\\r\\n5241,nso\\r\\n5242,ven\\r\\n5243,tsn\\r\\n5244,tso\\r\\n5245,nbl\\r\\n5246,nso\\r\\n5247,xho\\r\\n5248,nso\\r\\n5249,xho\\r\\n5250,ssw\\r\\n5251,ssw\\r\\n5252,tsn\\r\\n5253,afr\\r\\n5254,sot\\r\\n5255,ven\\r\\n5256,nbl\\r\\n5257,sot\\r\\n5258,nso\\r\\n5259,zul\\r\\n5260,nso\\r\\n5261,afr\\r\\n5262,sot\\r\\n5263,tsn\\r\\n5264,tso\\r\\n5265,nso\\r\\n5266,tsn\\r\\n5267,ven\\r\\n5268,ven\\r\\n5269,tsn\\r\\n5270,ven\\r\\n5271,sot\\r\\n5272,eng\\r\\n5273,ssw\\r\\n5274,nso\\r\\n5275,tso\\r\\n5276,tsn\\r\\n5277,afr\\r\\n5278,ven\\r\\n5279,sot\\r\\n5280,afr\\r\\n5281,zul\\r\\n5282,ssw\\r\\n5283,nbl\\r\\n5284,nso\\r\\n5285,tsn\\r\\n5286,sot\\r\\n5287,tsn\\r\\n5288,nso\\r\\n5289,tso\\r\\n5290,nso\\r\\n5291,xho\\r\\n5292,sot\\r\\n5293,sot\\r\\n5294,ven\\r\\n5295,xho\\r\\n5296,tsn\\r\\n5297,tso\\r\\n5298,nso\\r\\n5299,afr\\r\\n5300,sot\\r\\n5301,ssw\\r\\n5302,ssw\\r\\n5303,ssw\\r\\n5304,afr\\r\\n5305,xho\\r\\n5306,afr\\r\\n5307,afr\\r\\n5308,nso\\r\\n5309,nso\\r\\n5310,sot\\r\\n5311,xho\\r\\n5312,tso\\r\\n5313,xho\\r\\n5314,nbl\\r\\n5315,zul\\r\\n5316,afr\\r\\n5317,xho\\r\\n5318,sot\\r\\n5319,sot\\r\\n5320,ven\\r\\n5321,xho\\r\\n5322,eng\\r\\n5323,eng\\r\\n5324,afr\\r\\n5325,ven\\r\\n5326,tsn\\r\\n5327,afr\\r\\n5328,tsn\\r\\n5329,ven\\r\\n5330,xho\\r\\n5331,nbl\\r\\n5332,tsn\\r\\n5333,xho\\r\\n5334,nbl\\r\\n5335,sot\\r\\n5336,nso\\r\\n5337,afr\\r\\n5338,ven\\r\\n5339,xho\\r\\n5340,sot\\r\\n5341,tsn\\r\\n5342,xho\\r\\n5343,ven\\r\\n5344,sot\\r\\n5345,ven\\r\\n5346,ssw\\r\\n5347,afr\\r\\n5348,xho\\r\\n5349,ven\\r\\n5350,ven\\r\\n5351,xho\\r\\n5352,sot\\r\\n5353,sot\\r\\n5354,ssw\\r\\n5355,nso\\r\\n5356,xho\\r\\n5357,nbl\\r\\n5358,zul\\r\\n5359,afr\\r\\n5360,afr\\r\\n5361,nso\\r\\n5362,xho\\r\\n5363,nbl\\r\\n5364,nso\\r\\n5365,nbl\\r\\n5366,sot\\r\\n5367,zul\\r\\n5368,ven\\r\\n5369,nso\\r\\n5370,afr\\r\\n5371,ven\\r\\n5372,afr\\r\\n5373,tso\\r\\n5374,ven\\r\\n5375,tsn\\r\\n5376,nso\\r\\n5377,xho\\r\\n5378,tso\\r\\n5379,eng\\r\\n5380,sot\\r\\n5381,nso\\r\\n5382,tsn\\r\\n5383,eng\\r\\n5384,ven\\r\\n5385,nbl\\r\\n5386,nso\\r\\n5387,afr\\r\\n5388,tsn\\r\\n5389,ssw\\r\\n5390,ven\\r\\n5391,tso\\r\\n5392,sot\\r\\n5393,sot\\r\\n5394,tsn\\r\\n5395,sot\\r\\n5396,tso\\r\\n5397,nso\\r\\n5398,ven\\r\\n5399,tsn\\r\\n5400,sot\\r\\n5401,ven\\r\\n5402,sot\\r\\n5403,nso\\r\\n5404,tsn\\r\\n5405,afr\\r\\n5406,nbl\\r\\n5407,ven\\r\\n5408,xho\\r\\n5409,tsn\\r\\n5410,xho\\r\\n5411,sot\\r\\n5412,eng\\r\\n5413,ven\\r\\n5414,tsn\\r\\n5415,ven\\r\\n5416,ven\\r\\n5417,ssw\\r\\n5418,ssw\\r\\n5419,afr\\r\\n5420,tsn\\r\\n5421,nso\\r\\n5422,nso\\r\\n5423,tsn\\r\\n5424,tsn\\r\\n5425,sot\\r\\n5426,afr\\r\\n5427,tsn\\r\\n5428,tso\\r\\n5429,nso\\r\\n5430,nso\\r\\n5431,tso\\r\\n5432,nso\\r\\n5433,nso\\r\\n5434,zul\\r\\n5435,afr\\r\\n5436,afr\\r\\n5437,eng\\r\\n5438,xho\\r\\n5439,ven\\r\\n5440,zul\\r\\n5441,sot\\r\\n5442,ven\\r\\n5443,ssw\\r\\n5444,sot\\r\\n5445,sot\\r\\n5446,afr\\r\\n5447,afr\\r\\n5448,sot\\r\\n5449,tsn\\r\\n5450,tso\\r\\n5451,ssw\\r\\n5452,tso\\r\\n5453,zul\\r\\n5454,nso\\r\\n5455,tsn\\r\\n5456,afr\\r\\n5457,tso\\r\\n5458,ven\\r\\n5459,tsn\\r\\n5460,tsn\\r\\n5461,afr\\r\\n5462,ven\\r\\n5463,nso\\r\\n5464,xho\\r\\n5465,tso\\r\\n5466,ven\\r\\n5467,nso\\r\\n5468,xho\\r\\n5469,ven\\r\\n5470,sot\\r\\n5471,tsn\\r\\n5472,ven\\r\\n5473,tsn\\r\\n5474,nso\\r\\n5475,sot\\r\\n5476,zul\\r\\n5477,xho\\r\\n5478,tsn\\r\\n5479,tso\\r\\n5480,nso\\r\\n5481,nso\\r\\n5482,nso\\r\\n5483,sot\\r\\n5484,afr\\r\\n5485,eng\\r\\n5486,zul\\r\\n5487,ssw\\r\\n5488,tso\\r\\n5489,eng\\r\\n5490,tsn\\r\\n5491,nbl\\r\\n5492,sot\\r\\n5493,tsn\\r\\n5494,ven\\r\\n5495,nso\\r\\n5496,ven\\r\\n5497,tsn\\r\\n5498,ven\\r\\n5499,tso\\r\\n5500,tsn\\r\\n5501,sot\\r\\n5502,sot\\r\\n5503,tsn\\r\\n5504,eng\\r\\n5505,afr\\r\\n5506,nso\\r\\n5507,tsn\\r\\n5508,nso\\r\\n5509,afr\\r\\n5510,sot\\r\\n5511,afr\\r\\n5512,eng\\r\\n5513,nso\\r\\n5514,nso\\r\\n5515,zul\\r\\n5516,ssw\\r\\n5517,nso\\r\\n5518,xho\\r\\n5519,afr\\r\\n5520,ven\\r\\n5521,tsn\\r\\n5522,zul\\r\\n5523,xho\\r\\n5524,ssw\\r\\n5525,afr\\r\\n5526,ven\\r\\n5527,nso\\r\\n5528,ven\\r\\n5529,sot\\r\\n5530,xho\\r\\n5531,sot\\r\\n5532,nso\\r\\n5533,tsn\\r\\n5534,nbl\\r\\n5535,afr\\r\\n5536,xho\\r\\n5537,ven\\r\\n5538,sot\\r\\n5539,tso\\r\\n5540,nbl\\r\\n5541,ven\\r\\n5542,afr\\r\\n5543,xho\\r\\n5544,tsn\\r\\n5545,nso\\r\\n5546,ven\\r\\n5547,sot\\r\\n5548,xho\\r\\n5549,xho\\r\\n5550,afr\\r\\n5551,nso\\r\\n5552,nso\\r\\n5553,afr\\r\\n5554,ssw\\r\\n5555,ven\\r\\n5556,xho\\r\\n5557,tsn\\r\\n5558,sot\\r\\n5559,nbl\\r\\n5560,sot\\r\\n5561,tsn\\r\\n5562,nso\\r\\n5563,nso\\r\\n5564,afr\\r\\n5565,afr\\r\\n5566,nso\\r\\n5567,nso\\r\\n5568,tso\\r\\n5569,xho\\r\\n5570,ven\\r\\n5571,tso\\r\\n5572,ven\\r\\n5573,ven\\r\\n5574,sot\\r\\n5575,nso\\r\\n5576,ven\\r\\n5577,tso\\r\\n5578,eng\\r\\n5579,ven\\r\\n5580,sot\\r\\n5581,tsn\\r\\n5582,ssw\\r\\n5583,ven\\r\\n5584,zul\\r\\n5585,zul\\r\\n5586,sot\\r\\n5587,nbl\\r\\n5588,ssw\\r\\n5589,nso\\r\\n5590,tso\\r\\n5591,tsn\\r\\n5592,nso\\r\\n5593,tsn\\r\\n5594,tsn\\r\\n5595,tsn\\r\\n5596,afr\\r\\n5597,tsn\\r\\n5598,nbl\\r\\n5599,nso\\r\\n5600,xho\\r\\n5601,afr\\r\\n5602,nso\\r\\n5603,tso\\r\\n5604,sot\\r\\n5605,ven\\r\\n5606,zul\\r\\n5607,tsn\\r\\n5608,sot\\r\\n5609,xho\\r\\n5610,nso\\r\\n5611,afr\\r\\n5612,tsn\\r\\n5613,afr\\r\\n5614,nso\\r\\n5615,zul\\r\\n5616,ssw\\r\\n5617,ven\\r\\n5618,tso\\r\\n5619,ven\\r\\n5620,afr\\r\\n5621,tsn\\r\\n5622,afr\\r\\n5623,ssw\\r\\n5624,tsn\\r\\n5625,tsn\\r\\n5626,xho\\r\\n5627,afr\\r\\n5628,tsn\\r\\n5629,afr\\r\\n5630,tsn\\r\\n5631,sot\\r\\n5632,ssw\\r\\n5633,nso\\r\\n5634,xho\\r\\n5635,tso\\r\\n5636,zul\\r\\n5637,zul\\r\\n5638,ssw\\r\\n5639,zul\\r\\n5640,tsn\\r\\n5641,tsn\\r\\n5642,nso\\r\\n5643,xho\\r\\n5644,tso\\r\\n5645,afr\\r\\n5646,tso\\r\\n5647,tsn\\r\\n5648,ssw\\r\\n5649,nso\\r\\n5650,tso\\r\\n5651,tsn\\r\\n5652,tsn\\r\\n5653,nbl\\r\\n5654,sot\\r\\n5655,nso\\r\\n5656,nso\\r\\n5657,ven\\r\\n5658,nso\\r\\n5659,zul\\r\\n5660,ven\\r\\n5661,ven\\r\\n5662,xho\\r\\n5663,ssw\\r\\n5664,afr\\r\\n5665,ven\\r\\n5666,afr\\r\\n5667,ssw\\r\\n5668,xho\\r\\n5669,nbl\\r\\n5670,nbl\\r\\n5671,eng\\r\\n5672,sot\\r\\n5673,afr\\r\\n5674,ven\\r\\n5675,nso\\r\\n5676,ven\\r\\n5677,nso\\r\\n5678,eng\\r\\n5679,nso\\r\\n5680,sot\\r\\n5681,sot\\r\\n5682,tso\\r\\n'"
      ]
     },
     "execution_count": 37,
     "metadata": {},
     "output_type": "execute_result"
    }
   ],
   "source": [
    "test1 = test['text']\n",
    "X_test =vector.transform(test1)\n",
    "\n",
    "test_pred = NB.predict(X_test)\n",
    "\n",
    "test['lang_id'] = test_pred\n",
    "\n",
    "submit = test[['index','lang_id']]\n",
    "submit.to_csv(submit.to_csv('C:\\\\Users\\\\admin\\\\Desktop\\\\Hackathon\\\\submit\\\\submitNB.csv', index=False)\n",
    ", index=False) "
   ]
  },
  {
   "cell_type": "code",
   "execution_count": 38,
   "id": "6ad5bd32",
   "metadata": {},
   "outputs": [
    {
     "data": {
      "text/html": [
       "<div>\n",
       "<style scoped>\n",
       "    .dataframe tbody tr th:only-of-type {\n",
       "        vertical-align: middle;\n",
       "    }\n",
       "\n",
       "    .dataframe tbody tr th {\n",
       "        vertical-align: top;\n",
       "    }\n",
       "\n",
       "    .dataframe thead th {\n",
       "        text-align: right;\n",
       "    }\n",
       "</style>\n",
       "<table border=\"1\" class=\"dataframe\">\n",
       "  <thead>\n",
       "    <tr style=\"text-align: right;\">\n",
       "      <th></th>\n",
       "      <th>index</th>\n",
       "      <th>lang_id</th>\n",
       "    </tr>\n",
       "  </thead>\n",
       "  <tbody>\n",
       "    <tr>\n",
       "      <th>0</th>\n",
       "      <td>1</td>\n",
       "      <td>tsn</td>\n",
       "    </tr>\n",
       "    <tr>\n",
       "      <th>1</th>\n",
       "      <td>2</td>\n",
       "      <td>nbl</td>\n",
       "    </tr>\n",
       "    <tr>\n",
       "      <th>2</th>\n",
       "      <td>3</td>\n",
       "      <td>ven</td>\n",
       "    </tr>\n",
       "    <tr>\n",
       "      <th>3</th>\n",
       "      <td>4</td>\n",
       "      <td>ssw</td>\n",
       "    </tr>\n",
       "    <tr>\n",
       "      <th>4</th>\n",
       "      <td>5</td>\n",
       "      <td>afr</td>\n",
       "    </tr>\n",
       "    <tr>\n",
       "      <th>...</th>\n",
       "      <td>...</td>\n",
       "      <td>...</td>\n",
       "    </tr>\n",
       "    <tr>\n",
       "      <th>5677</th>\n",
       "      <td>5678</td>\n",
       "      <td>eng</td>\n",
       "    </tr>\n",
       "    <tr>\n",
       "      <th>5678</th>\n",
       "      <td>5679</td>\n",
       "      <td>nso</td>\n",
       "    </tr>\n",
       "    <tr>\n",
       "      <th>5679</th>\n",
       "      <td>5680</td>\n",
       "      <td>sot</td>\n",
       "    </tr>\n",
       "    <tr>\n",
       "      <th>5680</th>\n",
       "      <td>5681</td>\n",
       "      <td>sot</td>\n",
       "    </tr>\n",
       "    <tr>\n",
       "      <th>5681</th>\n",
       "      <td>5682</td>\n",
       "      <td>tso</td>\n",
       "    </tr>\n",
       "  </tbody>\n",
       "</table>\n",
       "<p>5682 rows × 2 columns</p>\n",
       "</div>"
      ],
      "text/plain": [
       "      index lang_id\n",
       "0         1     tsn\n",
       "1         2     nbl\n",
       "2         3     ven\n",
       "3         4     ssw\n",
       "4         5     afr\n",
       "...     ...     ...\n",
       "5677   5678     eng\n",
       "5678   5679     nso\n",
       "5679   5680     sot\n",
       "5680   5681     sot\n",
       "5681   5682     tso\n",
       "\n",
       "[5682 rows x 2 columns]"
      ]
     },
     "execution_count": 38,
     "metadata": {},
     "output_type": "execute_result"
    }
   ],
   "source": [
    "submit"
   ]
  },
  {
   "cell_type": "code",
   "execution_count": 39,
   "id": "673e0170",
   "metadata": {},
   "outputs": [
    {
     "ename": "ValueError",
     "evalue": "Found input variables with inconsistent numbers of samples: [6600, 5682]",
     "output_type": "error",
     "traceback": [
      "\u001b[1;31m---------------------------------------------------------------------------\u001b[0m",
      "\u001b[1;31mValueError\u001b[0m                                Traceback (most recent call last)",
      "Cell \u001b[1;32mIn[39], line 6\u001b[0m\n\u001b[0;32m      3\u001b[0m rf\u001b[39m.\u001b[39mfit(X_train,y_train)\n\u001b[0;32m      5\u001b[0m rf_prediction \u001b[39m=\u001b[39m rf\u001b[39m.\u001b[39mpredict(X_test)\n\u001b[1;32m----> 6\u001b[0m rf_accuracy \u001b[39m=\u001b[39m accuracy_score(y_test,rf_prediction)\n\u001b[0;32m      8\u001b[0m \u001b[39mprint\u001b[39m(\u001b[39m\"\u001b[39m\u001b[39mTraining accuracy Score    : \u001b[39m\u001b[39m\"\u001b[39m,rf\u001b[39m.\u001b[39mscore(X_train,y_train))\n\u001b[0;32m      9\u001b[0m \u001b[39mprint\u001b[39m(\u001b[39m\"\u001b[39m\u001b[39mTesting accuracy Score : \u001b[39m\u001b[39m\"\u001b[39m,rf_accuracy )\n",
      "File \u001b[1;32m~\\AppData\\Local\\Packages\\PythonSoftwareFoundation.Python.3.11_qbz5n2kfra8p0\\LocalCache\\local-packages\\Python311\\site-packages\\sklearn\\utils\\_param_validation.py:211\u001b[0m, in \u001b[0;36mvalidate_params.<locals>.decorator.<locals>.wrapper\u001b[1;34m(*args, **kwargs)\u001b[0m\n\u001b[0;32m    205\u001b[0m \u001b[39mtry\u001b[39;00m:\n\u001b[0;32m    206\u001b[0m     \u001b[39mwith\u001b[39;00m config_context(\n\u001b[0;32m    207\u001b[0m         skip_parameter_validation\u001b[39m=\u001b[39m(\n\u001b[0;32m    208\u001b[0m             prefer_skip_nested_validation \u001b[39mor\u001b[39;00m global_skip_validation\n\u001b[0;32m    209\u001b[0m         )\n\u001b[0;32m    210\u001b[0m     ):\n\u001b[1;32m--> 211\u001b[0m         \u001b[39mreturn\u001b[39;00m func(\u001b[39m*\u001b[39;49margs, \u001b[39m*\u001b[39;49m\u001b[39m*\u001b[39;49mkwargs)\n\u001b[0;32m    212\u001b[0m \u001b[39mexcept\u001b[39;00m InvalidParameterError \u001b[39mas\u001b[39;00m e:\n\u001b[0;32m    213\u001b[0m     \u001b[39m# When the function is just a wrapper around an estimator, we allow\u001b[39;00m\n\u001b[0;32m    214\u001b[0m     \u001b[39m# the function to delegate validation to the estimator, but we replace\u001b[39;00m\n\u001b[0;32m    215\u001b[0m     \u001b[39m# the name of the estimator by the name of the function in the error\u001b[39;00m\n\u001b[0;32m    216\u001b[0m     \u001b[39m# message to avoid confusion.\u001b[39;00m\n\u001b[0;32m    217\u001b[0m     msg \u001b[39m=\u001b[39m re\u001b[39m.\u001b[39msub(\n\u001b[0;32m    218\u001b[0m         \u001b[39mr\u001b[39m\u001b[39m\"\u001b[39m\u001b[39mparameter of \u001b[39m\u001b[39m\\\u001b[39m\u001b[39mw+ must be\u001b[39m\u001b[39m\"\u001b[39m,\n\u001b[0;32m    219\u001b[0m         \u001b[39mf\u001b[39m\u001b[39m\"\u001b[39m\u001b[39mparameter of \u001b[39m\u001b[39m{\u001b[39;00mfunc\u001b[39m.\u001b[39m\u001b[39m__qualname__\u001b[39m\u001b[39m}\u001b[39;00m\u001b[39m must be\u001b[39m\u001b[39m\"\u001b[39m,\n\u001b[0;32m    220\u001b[0m         \u001b[39mstr\u001b[39m(e),\n\u001b[0;32m    221\u001b[0m     )\n",
      "File \u001b[1;32m~\\AppData\\Local\\Packages\\PythonSoftwareFoundation.Python.3.11_qbz5n2kfra8p0\\LocalCache\\local-packages\\Python311\\site-packages\\sklearn\\metrics\\_classification.py:220\u001b[0m, in \u001b[0;36maccuracy_score\u001b[1;34m(y_true, y_pred, normalize, sample_weight)\u001b[0m\n\u001b[0;32m    154\u001b[0m \u001b[39m\u001b[39m\u001b[39m\"\"\"Accuracy classification score.\u001b[39;00m\n\u001b[0;32m    155\u001b[0m \n\u001b[0;32m    156\u001b[0m \u001b[39mIn multilabel classification, this function computes subset accuracy:\u001b[39;00m\n\u001b[1;32m   (...)\u001b[0m\n\u001b[0;32m    216\u001b[0m \u001b[39m0.5\u001b[39;00m\n\u001b[0;32m    217\u001b[0m \u001b[39m\"\"\"\u001b[39;00m\n\u001b[0;32m    219\u001b[0m \u001b[39m# Compute accuracy for each possible representation\u001b[39;00m\n\u001b[1;32m--> 220\u001b[0m y_type, y_true, y_pred \u001b[39m=\u001b[39m _check_targets(y_true, y_pred)\n\u001b[0;32m    221\u001b[0m check_consistent_length(y_true, y_pred, sample_weight)\n\u001b[0;32m    222\u001b[0m \u001b[39mif\u001b[39;00m y_type\u001b[39m.\u001b[39mstartswith(\u001b[39m\"\u001b[39m\u001b[39mmultilabel\u001b[39m\u001b[39m\"\u001b[39m):\n",
      "File \u001b[1;32m~\\AppData\\Local\\Packages\\PythonSoftwareFoundation.Python.3.11_qbz5n2kfra8p0\\LocalCache\\local-packages\\Python311\\site-packages\\sklearn\\metrics\\_classification.py:84\u001b[0m, in \u001b[0;36m_check_targets\u001b[1;34m(y_true, y_pred)\u001b[0m\n\u001b[0;32m     57\u001b[0m \u001b[39mdef\u001b[39;00m \u001b[39m_check_targets\u001b[39m(y_true, y_pred):\n\u001b[0;32m     58\u001b[0m \u001b[39m    \u001b[39m\u001b[39m\"\"\"Check that y_true and y_pred belong to the same classification task.\u001b[39;00m\n\u001b[0;32m     59\u001b[0m \n\u001b[0;32m     60\u001b[0m \u001b[39m    This converts multiclass or binary types to a common shape, and raises a\u001b[39;00m\n\u001b[1;32m   (...)\u001b[0m\n\u001b[0;32m     82\u001b[0m \u001b[39m    y_pred : array or indicator matrix\u001b[39;00m\n\u001b[0;32m     83\u001b[0m \u001b[39m    \"\"\"\u001b[39;00m\n\u001b[1;32m---> 84\u001b[0m     check_consistent_length(y_true, y_pred)\n\u001b[0;32m     85\u001b[0m     type_true \u001b[39m=\u001b[39m type_of_target(y_true, input_name\u001b[39m=\u001b[39m\u001b[39m\"\u001b[39m\u001b[39my_true\u001b[39m\u001b[39m\"\u001b[39m)\n\u001b[0;32m     86\u001b[0m     type_pred \u001b[39m=\u001b[39m type_of_target(y_pred, input_name\u001b[39m=\u001b[39m\u001b[39m\"\u001b[39m\u001b[39my_pred\u001b[39m\u001b[39m\"\u001b[39m)\n",
      "File \u001b[1;32m~\\AppData\\Local\\Packages\\PythonSoftwareFoundation.Python.3.11_qbz5n2kfra8p0\\LocalCache\\local-packages\\Python311\\site-packages\\sklearn\\utils\\validation.py:409\u001b[0m, in \u001b[0;36mcheck_consistent_length\u001b[1;34m(*arrays)\u001b[0m\n\u001b[0;32m    407\u001b[0m uniques \u001b[39m=\u001b[39m np\u001b[39m.\u001b[39munique(lengths)\n\u001b[0;32m    408\u001b[0m \u001b[39mif\u001b[39;00m \u001b[39mlen\u001b[39m(uniques) \u001b[39m>\u001b[39m \u001b[39m1\u001b[39m:\n\u001b[1;32m--> 409\u001b[0m     \u001b[39mraise\u001b[39;00m \u001b[39mValueError\u001b[39;00m(\n\u001b[0;32m    410\u001b[0m         \u001b[39m\"\u001b[39m\u001b[39mFound input variables with inconsistent numbers of samples: \u001b[39m\u001b[39m%r\u001b[39;00m\u001b[39m\"\u001b[39m\n\u001b[0;32m    411\u001b[0m         \u001b[39m%\u001b[39m [\u001b[39mint\u001b[39m(l) \u001b[39mfor\u001b[39;00m l \u001b[39min\u001b[39;00m lengths]\n\u001b[0;32m    412\u001b[0m     )\n",
      "\u001b[1;31mValueError\u001b[0m: Found input variables with inconsistent numbers of samples: [6600, 5682]"
     ]
    }
   ],
   "source": [
    "rf = RandomForestClassifier()\n",
    "\n",
    "rf.fit(X_train,y_train)\n",
    "\n",
    "rf_prediction = rf.predict(X_test)\n",
    "rf_accuracy = accuracy_score(y_test,rf_prediction)\n",
    "\n",
    "print(\"Training accuracy Score    : \",rf.score(X_train,y_train))\n",
    "print(\"Testing accuracy Score : \",rf_accuracy )\n",
    "\n",
    "print(classification_report(rf_prediction,y_test))"
   ]
  },
  {
   "cell_type": "code",
   "execution_count": null,
   "id": "0fb18ce3",
   "metadata": {},
   "outputs": [],
   "source": []
  }
 ],
 "metadata": {
  "kernelspec": {
   "display_name": "Python 3 (ipykernel)",
   "language": "python",
   "name": "python3"
  },
  "language_info": {
   "codemirror_mode": {
    "name": "ipython",
    "version": 3
   },
   "file_extension": ".py",
   "mimetype": "text/x-python",
   "name": "python",
   "nbconvert_exporter": "python",
   "pygments_lexer": "ipython3",
   "version": "3.11.6"
  }
 },
 "nbformat": 4,
 "nbformat_minor": 5
}
